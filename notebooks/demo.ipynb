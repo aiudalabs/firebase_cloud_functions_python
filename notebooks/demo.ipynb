{
 "cells": [
  {
   "cell_type": "code",
   "execution_count": 1,
   "metadata": {},
   "outputs": [],
   "source": [
    "import firebase_admin\n",
    "from firebase_admin import credentials\n",
    "from firebase_admin import firestore\n",
    "from google.cloud.firestore_v1.base_query import FieldFilter\n",
    "\n",
    "import datetime"
   ]
  },
  {
   "cell_type": "code",
   "execution_count": 2,
   "metadata": {},
   "outputs": [],
   "source": [
    "# Use a service account.\n",
    "cred = credentials.Certificate(\"aiuda-ffc77-1f6910e96817.json\")\n",
    "\n",
    "app = firebase_admin.initialize_app(cred)\n",
    "\n",
    "db = firestore.client()"
   ]
  },
  {
   "cell_type": "code",
   "execution_count": 3,
   "metadata": {},
   "outputs": [
    {
     "ename": "KeyboardInterrupt",
     "evalue": "",
     "output_type": "error",
     "traceback": [
      "\u001b[0;31m---------------------------------------------------------------------------\u001b[0m",
      "\u001b[0;31m_MultiThreadedRendezvous\u001b[0m                  Traceback (most recent call last)",
      "File \u001b[0;32m~/projects/aiuda/functions/venv/lib/python3.12/site-packages/google/api_core/grpc_helpers.py:170\u001b[0m, in \u001b[0;36m_wrap_stream_errors.<locals>.error_remapped_callable\u001b[0;34m(*args, **kwargs)\u001b[0m\n\u001b[1;32m    169\u001b[0m     prefetch_first \u001b[38;5;241m=\u001b[39m \u001b[38;5;28mgetattr\u001b[39m(callable_, \u001b[38;5;124m\"\u001b[39m\u001b[38;5;124m_prefetch_first_result_\u001b[39m\u001b[38;5;124m\"\u001b[39m, \u001b[38;5;28;01mTrue\u001b[39;00m)\n\u001b[0;32m--> 170\u001b[0m     \u001b[38;5;28;01mreturn\u001b[39;00m \u001b[43m_StreamingResponseIterator\u001b[49m\u001b[43m(\u001b[49m\n\u001b[1;32m    171\u001b[0m \u001b[43m        \u001b[49m\u001b[43mresult\u001b[49m\u001b[43m,\u001b[49m\u001b[43m \u001b[49m\u001b[43mprefetch_first_result\u001b[49m\u001b[38;5;241;43m=\u001b[39;49m\u001b[43mprefetch_first\u001b[49m\n\u001b[1;32m    172\u001b[0m \u001b[43m    \u001b[49m\u001b[43m)\u001b[49m\n\u001b[1;32m    173\u001b[0m \u001b[38;5;28;01mexcept\u001b[39;00m grpc\u001b[38;5;241m.\u001b[39mRpcError \u001b[38;5;28;01mas\u001b[39;00m exc:\n",
      "File \u001b[0;32m~/projects/aiuda/functions/venv/lib/python3.12/site-packages/google/api_core/grpc_helpers.py:92\u001b[0m, in \u001b[0;36m_StreamingResponseIterator.__init__\u001b[0;34m(self, wrapped, prefetch_first_result)\u001b[0m\n\u001b[1;32m     91\u001b[0m     \u001b[38;5;28;01mif\u001b[39;00m prefetch_first_result:\n\u001b[0;32m---> 92\u001b[0m         \u001b[38;5;28mself\u001b[39m\u001b[38;5;241m.\u001b[39m_stored_first_result \u001b[38;5;241m=\u001b[39m \u001b[38;5;28;43mnext\u001b[39;49m\u001b[43m(\u001b[49m\u001b[38;5;28;43mself\u001b[39;49m\u001b[38;5;241;43m.\u001b[39;49m\u001b[43m_wrapped\u001b[49m\u001b[43m)\u001b[49m\n\u001b[1;32m     93\u001b[0m \u001b[38;5;28;01mexcept\u001b[39;00m \u001b[38;5;167;01mTypeError\u001b[39;00m:\n\u001b[1;32m     94\u001b[0m     \u001b[38;5;66;03m# It is possible the wrapped method isn't an iterable (a grpc.Call\u001b[39;00m\n\u001b[1;32m     95\u001b[0m     \u001b[38;5;66;03m# for instance). If this happens don't store the first result.\u001b[39;00m\n",
      "File \u001b[0;32m~/projects/aiuda/functions/venv/lib/python3.12/site-packages/grpc/_channel.py:543\u001b[0m, in \u001b[0;36m_Rendezvous.__next__\u001b[0;34m(self)\u001b[0m\n\u001b[1;32m    542\u001b[0m \u001b[38;5;28;01mdef\u001b[39;00m \u001b[38;5;21m__next__\u001b[39m(\u001b[38;5;28mself\u001b[39m):\n\u001b[0;32m--> 543\u001b[0m     \u001b[38;5;28;01mreturn\u001b[39;00m \u001b[38;5;28;43mself\u001b[39;49m\u001b[38;5;241;43m.\u001b[39;49m\u001b[43m_next\u001b[49m\u001b[43m(\u001b[49m\u001b[43m)\u001b[49m\n",
      "File \u001b[0;32m~/projects/aiuda/functions/venv/lib/python3.12/site-packages/grpc/_channel.py:969\u001b[0m, in \u001b[0;36m_MultiThreadedRendezvous._next\u001b[0;34m(self)\u001b[0m\n\u001b[1;32m    968\u001b[0m \u001b[38;5;28;01melif\u001b[39;00m \u001b[38;5;28mself\u001b[39m\u001b[38;5;241m.\u001b[39m_state\u001b[38;5;241m.\u001b[39mcode \u001b[38;5;129;01mis\u001b[39;00m \u001b[38;5;129;01mnot\u001b[39;00m \u001b[38;5;28;01mNone\u001b[39;00m:\n\u001b[0;32m--> 969\u001b[0m     \u001b[38;5;28;01mraise\u001b[39;00m \u001b[38;5;28mself\u001b[39m\n",
      "\u001b[0;31m_MultiThreadedRendezvous\u001b[0m: <_MultiThreadedRendezvous of RPC that terminated with:\n\tstatus = StatusCode.UNAVAILABLE\n\tdetails = \"Getting metadata from plugin failed with error: ('invalid_grant: Invalid JWT Signature.', {'error': 'invalid_grant', 'error_description': 'Invalid JWT Signature.'})\"\n\tdebug_error_string = \"UNKNOWN:Error received from peer  {grpc_message:\"Getting metadata from plugin failed with error: (\\'invalid_grant: Invalid JWT Signature.\\', {\\'error\\': \\'invalid_grant\\', \\'error_description\\': \\'Invalid JWT Signature.\\'})\", grpc_status:14, created_time:\"2024-07-13T00:00:12.56957031-05:00\"}\"\n>",
      "\nThe above exception was the direct cause of the following exception:\n",
      "\u001b[0;31mServiceUnavailable\u001b[0m                        Traceback (most recent call last)",
      "File \u001b[0;32m~/projects/aiuda/functions/venv/lib/python3.12/site-packages/google/api_core/retry/retry_unary.py:144\u001b[0m, in \u001b[0;36mretry_target\u001b[0;34m(target, predicate, sleep_generator, timeout, on_error, exception_factory, **kwargs)\u001b[0m\n\u001b[1;32m    143\u001b[0m \u001b[38;5;28;01mtry\u001b[39;00m:\n\u001b[0;32m--> 144\u001b[0m     result \u001b[38;5;241m=\u001b[39m \u001b[43mtarget\u001b[49m\u001b[43m(\u001b[49m\u001b[43m)\u001b[49m\n\u001b[1;32m    145\u001b[0m     \u001b[38;5;28;01mif\u001b[39;00m inspect\u001b[38;5;241m.\u001b[39misawaitable(result):\n",
      "File \u001b[0;32m~/projects/aiuda/functions/venv/lib/python3.12/site-packages/google/api_core/timeout.py:120\u001b[0m, in \u001b[0;36mTimeToDeadlineTimeout.__call__.<locals>.func_with_timeout\u001b[0;34m(*args, **kwargs)\u001b[0m\n\u001b[1;32m    118\u001b[0m     kwargs[\u001b[38;5;124m\"\u001b[39m\u001b[38;5;124mtimeout\u001b[39m\u001b[38;5;124m\"\u001b[39m] \u001b[38;5;241m=\u001b[39m \u001b[38;5;28mmax\u001b[39m(\u001b[38;5;241m0\u001b[39m, \u001b[38;5;28mself\u001b[39m\u001b[38;5;241m.\u001b[39m_timeout \u001b[38;5;241m-\u001b[39m time_since_first_attempt)\n\u001b[0;32m--> 120\u001b[0m \u001b[38;5;28;01mreturn\u001b[39;00m \u001b[43mfunc\u001b[49m\u001b[43m(\u001b[49m\u001b[38;5;241;43m*\u001b[39;49m\u001b[43margs\u001b[49m\u001b[43m,\u001b[49m\u001b[43m \u001b[49m\u001b[38;5;241;43m*\u001b[39;49m\u001b[38;5;241;43m*\u001b[39;49m\u001b[43mkwargs\u001b[49m\u001b[43m)\u001b[49m\n",
      "File \u001b[0;32m~/projects/aiuda/functions/venv/lib/python3.12/site-packages/google/api_core/grpc_helpers.py:174\u001b[0m, in \u001b[0;36m_wrap_stream_errors.<locals>.error_remapped_callable\u001b[0;34m(*args, **kwargs)\u001b[0m\n\u001b[1;32m    173\u001b[0m \u001b[38;5;28;01mexcept\u001b[39;00m grpc\u001b[38;5;241m.\u001b[39mRpcError \u001b[38;5;28;01mas\u001b[39;00m exc:\n\u001b[0;32m--> 174\u001b[0m     \u001b[38;5;28;01mraise\u001b[39;00m exceptions\u001b[38;5;241m.\u001b[39mfrom_grpc_error(exc) \u001b[38;5;28;01mfrom\u001b[39;00m \u001b[38;5;21;01mexc\u001b[39;00m\n",
      "\u001b[0;31mServiceUnavailable\u001b[0m: 503 Getting metadata from plugin failed with error: ('invalid_grant: Invalid JWT Signature.', {'error': 'invalid_grant', 'error_description': 'Invalid JWT Signature.'})",
      "\nDuring handling of the above exception, another exception occurred:\n",
      "\u001b[0;31mKeyboardInterrupt\u001b[0m                         Traceback (most recent call last)",
      "Cell \u001b[0;32mIn[3], line 4\u001b[0m\n\u001b[1;32m      1\u001b[0m categories \u001b[38;5;241m=\u001b[39m db\u001b[38;5;241m.\u001b[39mcollection(\u001b[38;5;124m\"\u001b[39m\u001b[38;5;124mrooms/wWYwl9aL9vfNjLaJzh57/messages\u001b[39m\u001b[38;5;124m\"\u001b[39m)\n\u001b[1;32m      2\u001b[0m docs \u001b[38;5;241m=\u001b[39m categories\u001b[38;5;241m.\u001b[39mstream()\n\u001b[0;32m----> 4\u001b[0m \u001b[38;5;28;43;01mfor\u001b[39;49;00m\u001b[43m \u001b[49m\u001b[43mdoc\u001b[49m\u001b[43m \u001b[49m\u001b[38;5;129;43;01min\u001b[39;49;00m\u001b[43m \u001b[49m\u001b[43mdocs\u001b[49m\u001b[43m:\u001b[49m\n\u001b[1;32m      5\u001b[0m \u001b[43m    \u001b[49m\u001b[38;5;28;43mprint\u001b[39;49m\u001b[43m(\u001b[49m\u001b[43mdoc\u001b[49m\u001b[38;5;241;43m.\u001b[39;49m\u001b[43mto_dict\u001b[49m\u001b[43m(\u001b[49m\u001b[43m)\u001b[49m\u001b[43m)\u001b[49m\n",
      "File \u001b[0;32m~/projects/aiuda/functions/venv/lib/python3.12/site-packages/google/cloud/firestore_v1/query.py:351\u001b[0m, in \u001b[0;36mQuery.stream\u001b[0;34m(self, transaction, retry, timeout)\u001b[0m\n\u001b[1;32m    315\u001b[0m \u001b[38;5;28;01mdef\u001b[39;00m \u001b[38;5;21mstream\u001b[39m(\n\u001b[1;32m    316\u001b[0m     \u001b[38;5;28mself\u001b[39m,\n\u001b[1;32m    317\u001b[0m     transaction\u001b[38;5;241m=\u001b[39m\u001b[38;5;28;01mNone\u001b[39;00m,\n\u001b[1;32m    318\u001b[0m     retry: retries\u001b[38;5;241m.\u001b[39mRetry \u001b[38;5;241m=\u001b[39m gapic_v1\u001b[38;5;241m.\u001b[39mmethod\u001b[38;5;241m.\u001b[39mDEFAULT,\n\u001b[1;32m    319\u001b[0m     timeout: \u001b[38;5;28mfloat\u001b[39m \u001b[38;5;241m=\u001b[39m \u001b[38;5;28;01mNone\u001b[39;00m,\n\u001b[1;32m    320\u001b[0m ) \u001b[38;5;241m-\u001b[39m\u001b[38;5;241m>\u001b[39m Generator[document\u001b[38;5;241m.\u001b[39mDocumentSnapshot, Any, \u001b[38;5;28;01mNone\u001b[39;00m]:\n\u001b[1;32m    321\u001b[0m \u001b[38;5;250m    \u001b[39m\u001b[38;5;124;03m\"\"\"Read the documents in the collection that match this query.\u001b[39;00m\n\u001b[1;32m    322\u001b[0m \n\u001b[1;32m    323\u001b[0m \u001b[38;5;124;03m    This sends a ``RunQuery`` RPC and then returns an iterator which\u001b[39;00m\n\u001b[0;32m   (...)\u001b[0m\n\u001b[1;32m    349\u001b[0m \u001b[38;5;124;03m        The next document that fulfills the query.\u001b[39;00m\n\u001b[1;32m    350\u001b[0m \u001b[38;5;124;03m    \"\"\"\u001b[39;00m\n\u001b[0;32m--> 351\u001b[0m     response_iterator, expected_prefix \u001b[38;5;241m=\u001b[39m \u001b[38;5;28;43mself\u001b[39;49m\u001b[38;5;241;43m.\u001b[39;49m\u001b[43m_get_stream_iterator\u001b[49m\u001b[43m(\u001b[49m\n\u001b[1;32m    352\u001b[0m \u001b[43m        \u001b[49m\u001b[43mtransaction\u001b[49m\u001b[43m,\u001b[49m\n\u001b[1;32m    353\u001b[0m \u001b[43m        \u001b[49m\u001b[43mretry\u001b[49m\u001b[43m,\u001b[49m\n\u001b[1;32m    354\u001b[0m \u001b[43m        \u001b[49m\u001b[43mtimeout\u001b[49m\u001b[43m,\u001b[49m\n\u001b[1;32m    355\u001b[0m \u001b[43m    \u001b[49m\u001b[43m)\u001b[49m\n\u001b[1;32m    357\u001b[0m     last_snapshot \u001b[38;5;241m=\u001b[39m \u001b[38;5;28;01mNone\u001b[39;00m\n\u001b[1;32m    359\u001b[0m     \u001b[38;5;28;01mwhile\u001b[39;00m \u001b[38;5;28;01mTrue\u001b[39;00m:\n",
      "File \u001b[0;32m~/projects/aiuda/functions/venv/lib/python3.12/site-packages/google/cloud/firestore_v1/query.py:226\u001b[0m, in \u001b[0;36mQuery._get_stream_iterator\u001b[0;34m(self, transaction, retry, timeout)\u001b[0m\n\u001b[1;32m    219\u001b[0m \u001b[38;5;250m\u001b[39m\u001b[38;5;124;03m\"\"\"Helper method for :meth:`stream`.\"\"\"\u001b[39;00m\n\u001b[1;32m    220\u001b[0m request, expected_prefix, kwargs \u001b[38;5;241m=\u001b[39m \u001b[38;5;28mself\u001b[39m\u001b[38;5;241m.\u001b[39m_prep_stream(\n\u001b[1;32m    221\u001b[0m     transaction,\n\u001b[1;32m    222\u001b[0m     retry,\n\u001b[1;32m    223\u001b[0m     timeout,\n\u001b[1;32m    224\u001b[0m )\n\u001b[0;32m--> 226\u001b[0m response_iterator \u001b[38;5;241m=\u001b[39m \u001b[38;5;28;43mself\u001b[39;49m\u001b[38;5;241;43m.\u001b[39;49m\u001b[43m_client\u001b[49m\u001b[38;5;241;43m.\u001b[39;49m\u001b[43m_firestore_api\u001b[49m\u001b[38;5;241;43m.\u001b[39;49m\u001b[43mrun_query\u001b[49m\u001b[43m(\u001b[49m\n\u001b[1;32m    227\u001b[0m \u001b[43m    \u001b[49m\u001b[43mrequest\u001b[49m\u001b[38;5;241;43m=\u001b[39;49m\u001b[43mrequest\u001b[49m\u001b[43m,\u001b[49m\n\u001b[1;32m    228\u001b[0m \u001b[43m    \u001b[49m\u001b[43mmetadata\u001b[49m\u001b[38;5;241;43m=\u001b[39;49m\u001b[38;5;28;43mself\u001b[39;49m\u001b[38;5;241;43m.\u001b[39;49m\u001b[43m_client\u001b[49m\u001b[38;5;241;43m.\u001b[39;49m\u001b[43m_rpc_metadata\u001b[49m\u001b[43m,\u001b[49m\n\u001b[1;32m    229\u001b[0m \u001b[43m    \u001b[49m\u001b[38;5;241;43m*\u001b[39;49m\u001b[38;5;241;43m*\u001b[39;49m\u001b[43mkwargs\u001b[49m\u001b[43m,\u001b[49m\n\u001b[1;32m    230\u001b[0m \u001b[43m\u001b[49m\u001b[43m)\u001b[49m\n\u001b[1;32m    232\u001b[0m \u001b[38;5;28;01mreturn\u001b[39;00m response_iterator, expected_prefix\n",
      "File \u001b[0;32m~/projects/aiuda/functions/venv/lib/python3.12/site-packages/google/cloud/firestore_v1/services/firestore/client.py:1562\u001b[0m, in \u001b[0;36mFirestoreClient.run_query\u001b[0;34m(self, request, retry, timeout, metadata)\u001b[0m\n\u001b[1;32m   1559\u001b[0m \u001b[38;5;28mself\u001b[39m\u001b[38;5;241m.\u001b[39m_validate_universe_domain()\n\u001b[1;32m   1561\u001b[0m \u001b[38;5;66;03m# Send the request.\u001b[39;00m\n\u001b[0;32m-> 1562\u001b[0m response \u001b[38;5;241m=\u001b[39m \u001b[43mrpc\u001b[49m\u001b[43m(\u001b[49m\n\u001b[1;32m   1563\u001b[0m \u001b[43m    \u001b[49m\u001b[43mrequest\u001b[49m\u001b[43m,\u001b[49m\n\u001b[1;32m   1564\u001b[0m \u001b[43m    \u001b[49m\u001b[43mretry\u001b[49m\u001b[38;5;241;43m=\u001b[39;49m\u001b[43mretry\u001b[49m\u001b[43m,\u001b[49m\n\u001b[1;32m   1565\u001b[0m \u001b[43m    \u001b[49m\u001b[43mtimeout\u001b[49m\u001b[38;5;241;43m=\u001b[39;49m\u001b[43mtimeout\u001b[49m\u001b[43m,\u001b[49m\n\u001b[1;32m   1566\u001b[0m \u001b[43m    \u001b[49m\u001b[43mmetadata\u001b[49m\u001b[38;5;241;43m=\u001b[39;49m\u001b[43mmetadata\u001b[49m\u001b[43m,\u001b[49m\n\u001b[1;32m   1567\u001b[0m \u001b[43m\u001b[49m\u001b[43m)\u001b[49m\n\u001b[1;32m   1569\u001b[0m \u001b[38;5;66;03m# Done; return the response.\u001b[39;00m\n\u001b[1;32m   1570\u001b[0m \u001b[38;5;28;01mreturn\u001b[39;00m response\n",
      "File \u001b[0;32m~/projects/aiuda/functions/venv/lib/python3.12/site-packages/google/api_core/gapic_v1/method.py:131\u001b[0m, in \u001b[0;36m_GapicCallable.__call__\u001b[0;34m(self, timeout, retry, compression, *args, **kwargs)\u001b[0m\n\u001b[1;32m    128\u001b[0m \u001b[38;5;28;01mif\u001b[39;00m \u001b[38;5;28mself\u001b[39m\u001b[38;5;241m.\u001b[39m_compression \u001b[38;5;129;01mis\u001b[39;00m \u001b[38;5;129;01mnot\u001b[39;00m \u001b[38;5;28;01mNone\u001b[39;00m:\n\u001b[1;32m    129\u001b[0m     kwargs[\u001b[38;5;124m\"\u001b[39m\u001b[38;5;124mcompression\u001b[39m\u001b[38;5;124m\"\u001b[39m] \u001b[38;5;241m=\u001b[39m compression\n\u001b[0;32m--> 131\u001b[0m \u001b[38;5;28;01mreturn\u001b[39;00m \u001b[43mwrapped_func\u001b[49m\u001b[43m(\u001b[49m\u001b[38;5;241;43m*\u001b[39;49m\u001b[43margs\u001b[49m\u001b[43m,\u001b[49m\u001b[43m \u001b[49m\u001b[38;5;241;43m*\u001b[39;49m\u001b[38;5;241;43m*\u001b[39;49m\u001b[43mkwargs\u001b[49m\u001b[43m)\u001b[49m\n",
      "File \u001b[0;32m~/projects/aiuda/functions/venv/lib/python3.12/site-packages/google/api_core/retry/retry_unary.py:293\u001b[0m, in \u001b[0;36mRetry.__call__.<locals>.retry_wrapped_func\u001b[0;34m(*args, **kwargs)\u001b[0m\n\u001b[1;32m    289\u001b[0m target \u001b[38;5;241m=\u001b[39m functools\u001b[38;5;241m.\u001b[39mpartial(func, \u001b[38;5;241m*\u001b[39margs, \u001b[38;5;241m*\u001b[39m\u001b[38;5;241m*\u001b[39mkwargs)\n\u001b[1;32m    290\u001b[0m sleep_generator \u001b[38;5;241m=\u001b[39m exponential_sleep_generator(\n\u001b[1;32m    291\u001b[0m     \u001b[38;5;28mself\u001b[39m\u001b[38;5;241m.\u001b[39m_initial, \u001b[38;5;28mself\u001b[39m\u001b[38;5;241m.\u001b[39m_maximum, multiplier\u001b[38;5;241m=\u001b[39m\u001b[38;5;28mself\u001b[39m\u001b[38;5;241m.\u001b[39m_multiplier\n\u001b[1;32m    292\u001b[0m )\n\u001b[0;32m--> 293\u001b[0m \u001b[38;5;28;01mreturn\u001b[39;00m \u001b[43mretry_target\u001b[49m\u001b[43m(\u001b[49m\n\u001b[1;32m    294\u001b[0m \u001b[43m    \u001b[49m\u001b[43mtarget\u001b[49m\u001b[43m,\u001b[49m\n\u001b[1;32m    295\u001b[0m \u001b[43m    \u001b[49m\u001b[38;5;28;43mself\u001b[39;49m\u001b[38;5;241;43m.\u001b[39;49m\u001b[43m_predicate\u001b[49m\u001b[43m,\u001b[49m\n\u001b[1;32m    296\u001b[0m \u001b[43m    \u001b[49m\u001b[43msleep_generator\u001b[49m\u001b[43m,\u001b[49m\n\u001b[1;32m    297\u001b[0m \u001b[43m    \u001b[49m\u001b[43mtimeout\u001b[49m\u001b[38;5;241;43m=\u001b[39;49m\u001b[38;5;28;43mself\u001b[39;49m\u001b[38;5;241;43m.\u001b[39;49m\u001b[43m_timeout\u001b[49m\u001b[43m,\u001b[49m\n\u001b[1;32m    298\u001b[0m \u001b[43m    \u001b[49m\u001b[43mon_error\u001b[49m\u001b[38;5;241;43m=\u001b[39;49m\u001b[43mon_error\u001b[49m\u001b[43m,\u001b[49m\n\u001b[1;32m    299\u001b[0m \u001b[43m\u001b[49m\u001b[43m)\u001b[49m\n",
      "File \u001b[0;32m~/projects/aiuda/functions/venv/lib/python3.12/site-packages/google/api_core/retry/retry_unary.py:164\u001b[0m, in \u001b[0;36mretry_target\u001b[0;34m(target, predicate, sleep_generator, timeout, on_error, exception_factory, **kwargs)\u001b[0m\n\u001b[1;32m    153\u001b[0m         _retry_error_helper(\n\u001b[1;32m    154\u001b[0m             exc,\n\u001b[1;32m    155\u001b[0m             deadline,\n\u001b[0;32m   (...)\u001b[0m\n\u001b[1;32m    161\u001b[0m             timeout,\n\u001b[1;32m    162\u001b[0m         )\n\u001b[1;32m    163\u001b[0m         \u001b[38;5;66;03m# if exception not raised, sleep before next attempt\u001b[39;00m\n\u001b[0;32m--> 164\u001b[0m         \u001b[43mtime\u001b[49m\u001b[38;5;241;43m.\u001b[39;49m\u001b[43msleep\u001b[49m\u001b[43m(\u001b[49m\u001b[43msleep\u001b[49m\u001b[43m)\u001b[49m\n\u001b[1;32m    166\u001b[0m \u001b[38;5;28;01mraise\u001b[39;00m \u001b[38;5;167;01mValueError\u001b[39;00m(\u001b[38;5;124m\"\u001b[39m\u001b[38;5;124mSleep generator stopped yielding sleep values.\u001b[39m\u001b[38;5;124m\"\u001b[39m)\n",
      "\u001b[0;31mKeyboardInterrupt\u001b[0m: "
     ]
    }
   ],
   "source": [
    "categories = db.collection(\"rooms/wWYwl9aL9vfNjLaJzh57/messages\")\n",
    "docs = categories.stream()\n",
    "\n",
    "for doc in docs:\n",
    "    print(doc.to_dict())"
   ]
  },
  {
   "cell_type": "code",
   "execution_count": 5,
   "metadata": {},
   "outputs": [
    {
     "data": {
      "text/plain": [
       "{'text': 'http://aiudalabs.co',\n",
       " 'createdAt': DatetimeWithNanoseconds(2024, 6, 25, 6, 29, 26, 118000, tzinfo=datetime.timezone.utc),\n",
       " 'type': 'text',\n",
       " 'previewData': {'title': 'Home | aiudalabs',\n",
       "  'image': {'height': 150.0,\n",
       "   'url': 'https://aiudalabs.odoo.com/web/image/website/1/logo?unique=c788b95',\n",
       "   'width': 150.0},\n",
       "  'link': 'http://aiudalabs.co'},\n",
       " 'authorId': 'HidJFGAqlxN4GkOtpuMXStxwBYB2',\n",
       " 'updatedAt': DatetimeWithNanoseconds(2024, 6, 25, 6, 29, 28, 561000, tzinfo=datetime.timezone.utc)}"
      ]
     },
     "execution_count": 5,
     "metadata": {},
     "output_type": "execute_result"
    }
   ],
   "source": [
    "doc.to_dict()"
   ]
  },
  {
   "cell_type": "markdown",
   "metadata": {},
   "source": [
    "# Add elements to the table"
   ]
  },
  {
   "cell_type": "code",
   "execution_count": 13,
   "metadata": {},
   "outputs": [
    {
     "name": "stdout",
     "output_type": "stream",
     "text": [
      "{'text': 'Hello', 'createdAt': DatetimeWithNanoseconds(2024, 6, 27, 19, 37, 46, 668000, tzinfo=datetime.timezone.utc), 'type': 'text', 'authorId': 'bcYT3imwF7QY6OdRnRyAY19K3Zz1', 'updatedAt': DatetimeWithNanoseconds(2024, 6, 27, 19, 37, 46, 668000, tzinfo=datetime.timezone.utc)}\n",
      "{'text': 'Hola yomap como estas', 'createdAt': DatetimeWithNanoseconds(2024, 6, 25, 6, 15, 16, 566000, tzinfo=datetime.timezone.utc), 'type': 'text', 'authorId': 'bcYT3imwF7QY6OdRnRyAY19K3Zz1', 'updatedAt': DatetimeWithNanoseconds(2024, 6, 25, 6, 15, 16, 566000, tzinfo=datetime.timezone.utc)}\n",
      "{'text': 'Hola', 'createdAt': DatetimeWithNanoseconds(2024, 7, 1, 4, 48, 41, 944000, tzinfo=datetime.timezone.utc), 'type': 'text', 'authorId': 'HidJFGAqlxN4GkOtpuMXStxwBYB2', 'updatedAt': DatetimeWithNanoseconds(2024, 7, 1, 4, 48, 41, 944000, tzinfo=datetime.timezone.utc)}\n",
      "{'text': 'Perfecto', 'createdAt': DatetimeWithNanoseconds(2024, 6, 25, 6, 20, 48, 942000, tzinfo=datetime.timezone.utc), 'type': 'text', 'authorId': 'bcYT3imwF7QY6OdRnRyAY19K3Zz1', 'updatedAt': DatetimeWithNanoseconds(2024, 6, 25, 6, 20, 48, 942000, tzinfo=datetime.timezone.utc)}\n",
      "{'text': 'Bueno mañana hablamos', 'createdAt': DatetimeWithNanoseconds(2024, 6, 25, 6, 28, 59, 776000, tzinfo=datetime.timezone.utc), 'type': 'text', 'authorId': 'HidJFGAqlxN4GkOtpuMXStxwBYB2', 'updatedAt': DatetimeWithNanoseconds(2024, 6, 25, 6, 28, 59, 776000, tzinfo=datetime.timezone.utc)}\n",
      "{'text': 'https://linkedin.com/in/nmlemus', 'createdAt': DatetimeWithNanoseconds(2024, 6, 25, 6, 29, 59, 149000, tzinfo=datetime.timezone.utc), 'type': 'text', 'previewData': {'description': 'I am a seasoned Data Science Professional with over 20 years of experience, driving… · Experience: Procter &amp; Gamble · Education: National Laboratory of Scientific Computing · Location: Panama · 500+ connections on LinkedIn. View Noel Moreno Lemus, Ph.D.’s profile on LinkedIn, a professional community of 1 billion members.', 'image': {'height': 200.0, 'url': 'https://media.licdn.com/dms/image/C4E03AQE_I8FiwOyb-A/profile-displayphoto-shrink_200_200/0/1590162715556?e=2147483647&v=beta&t=XRBa3JDvpQ_6TEP4t3FiNheiyq5KNNl_09gYYY6IRkE', 'width': 200.0}, 'title': 'Noel Moreno Lemus, Ph.D. - Procter & Gamble | LinkedIn', 'link': 'https://linkedin.com/in/nmlemus'}, 'authorId': 'HidJFGAqlxN4GkOtpuMXStxwBYB2', 'updatedAt': DatetimeWithNanoseconds(2024, 6, 25, 6, 30, 1, 343000, tzinfo=datetime.timezone.utc)}\n",
      "{'text': 'Todo bien', 'createdAt': DatetimeWithNanoseconds(2024, 6, 25, 6, 20, 44, 952000, tzinfo=datetime.timezone.utc), 'type': 'text', 'authorId': 'bcYT3imwF7QY6OdRnRyAY19K3Zz1', 'updatedAt': DatetimeWithNanoseconds(2024, 6, 25, 6, 20, 44, 952000, tzinfo=datetime.timezone.utc)}\n",
      "{'height': 2340.0, 'type': 'image', 'size': 209887, 'authorId': 'HidJFGAqlxN4GkOtpuMXStxwBYB2', 'uri': 'https://firebasestorage.googleapis.com/v0/b/aiuda-ffc77.appspot.com/o/scaled_1000239560.jpg?alt=media&token=a973566b-1ee4-411f-ad35-52eacd5a3f30', 'width': 1080.0, 'createdAt': DatetimeWithNanoseconds(2024, 6, 25, 6, 19, 52, 423000, tzinfo=datetime.timezone.utc), 'updatedAt': DatetimeWithNanoseconds(2024, 6, 25, 6, 19, 52, 423000, tzinfo=datetime.timezone.utc), 'name': 'scaled_1000239560.jpg'}\n",
      "{'text': 'Hola', 'createdAt': DatetimeWithNanoseconds(2024, 6, 25, 6, 19, 3, 848000, tzinfo=datetime.timezone.utc), 'type': 'text', 'authorId': 'bcYT3imwF7QY6OdRnRyAY19K3Zz1', 'updatedAt': DatetimeWithNanoseconds(2024, 6, 25, 6, 19, 3, 848000, tzinfo=datetime.timezone.utc)}\n",
      "{'height': 2340.0, 'type': 'image', 'size': 202711, 'authorId': 'bcYT3imwF7QY6OdRnRyAY19K3Zz1', 'uri': 'https://firebasestorage.googleapis.com/v0/b/aiuda-ffc77.appspot.com/o/scaled_1000222181.jpg?alt=media&token=de61eb6c-0544-4412-92e0-284522a63fc9', 'width': 1080.0, 'createdAt': DatetimeWithNanoseconds(2024, 6, 27, 19, 38, 9, 630000, tzinfo=datetime.timezone.utc), 'updatedAt': DatetimeWithNanoseconds(2024, 6, 27, 19, 38, 9, 630000, tzinfo=datetime.timezone.utc), 'name': 'scaled_1000222181.jpg'}\n",
      "{'isLoading': False, 'type': 'file', 'size': 7985, 'authorId': 'bcYT3imwF7QY6OdRnRyAY19K3Zz1', 'uri': 'https://firebasestorage.googleapis.com/v0/b/aiuda-ffc77.appspot.com/o/electricidad_junio2024.pdf?alt=media&token=1532652f-ce2e-432c-a706-36b188eda0e2', 'mimeType': 'application/pdf', 'createdAt': DatetimeWithNanoseconds(2024, 6, 27, 19, 38, 24, 969000, tzinfo=datetime.timezone.utc), 'updatedAt': DatetimeWithNanoseconds(2024, 6, 27, 19, 38, 27, 489000, tzinfo=datetime.timezone.utc), 'name': 'electricidad_junio2024.pdf'}\n",
      "{'text': 'Como estás', 'createdAt': DatetimeWithNanoseconds(2024, 6, 25, 6, 20, 35, 440000, tzinfo=datetime.timezone.utc), 'type': 'text', 'authorId': 'HidJFGAqlxN4GkOtpuMXStxwBYB2', 'updatedAt': DatetimeWithNanoseconds(2024, 6, 25, 6, 20, 35, 440000, tzinfo=datetime.timezone.utc)}\n",
      "{'text': 'Como estas', 'createdAt': DatetimeWithNanoseconds(2024, 6, 25, 6, 19, 45, 794000, tzinfo=datetime.timezone.utc), 'type': 'text', 'authorId': 'HidJFGAqlxN4GkOtpuMXStxwBYB2', 'updatedAt': DatetimeWithNanoseconds(2024, 6, 25, 6, 19, 45, 794000, tzinfo=datetime.timezone.utc)}\n",
      "{'text': 'Hola', 'createdAt': DatetimeWithNanoseconds(2024, 6, 25, 6, 19, 41, 904000, tzinfo=datetime.timezone.utc), 'type': 'text', 'authorId': 'HidJFGAqlxN4GkOtpuMXStxwBYB2', 'updatedAt': DatetimeWithNanoseconds(2024, 6, 25, 6, 19, 41, 904000, tzinfo=datetime.timezone.utc)}\n",
      "{'text': 'Gracias', 'createdAt': DatetimeWithNanoseconds(2024, 6, 25, 6, 20, 50, 926000, tzinfo=datetime.timezone.utc), 'type': 'text', 'authorId': 'bcYT3imwF7QY6OdRnRyAY19K3Zz1', 'updatedAt': DatetimeWithNanoseconds(2024, 6, 25, 6, 20, 50, 926000, tzinfo=datetime.timezone.utc)}\n",
      "{'text': 'Google.com', 'createdAt': DatetimeWithNanoseconds(2024, 6, 25, 6, 14, 51, 854000, tzinfo=datetime.timezone.utc), 'type': 'text', 'previewData': {'link': 'https://Google.com'}, 'authorId': 'bcYT3imwF7QY6OdRnRyAY19K3Zz1', 'updatedAt': DatetimeWithNanoseconds(2024, 6, 25, 6, 14, 52, 925000, tzinfo=datetime.timezone.utc)}\n",
      "{'text': 'https://www.infobae.com/economia/2024/06/23/a-pesar-de-la-recomendacion-del-fmi-en-su-gira-europea-milei-reitero-que-la-competencia-de-monedas-incluira-el-cierre-del-bcra/', 'createdAt': DatetimeWithNanoseconds(2024, 6, 25, 6, 30, 31, 936000, tzinfo=datetime.timezone.utc), 'type': 'text', 'previewData': {'description': 'El organismo opina que la entidad central debería tener un rol de prestamista de última instancia y de manejo de liquidez. El presidente volvió a mencionar que la emisión monetaria será declarado “delito de lesa humanidad”', 'image': {'height': 630.0, 'url': 'https://www.infobae.com/new-resizer/mKC2TiCNS5DjO46I6HFZ25NF0xs=/1200x630/filters:format(webp):quality(85)/cloudfront-us-east-1.images.arcpublishing.com/infobae/WGNCLMRMKRCCFPX7WHD56H3MJU.jpg', 'width': 1200.0}, 'title': 'Pese a la recomendación contraria del FMI, en su gira europea Milei reiteró que la competencia de monedas incluirá el cierre del BCRA - Infobae', 'link': 'https://www.infobae.com/economia/2024/06/23/a-pesar-de-la-recomendacion-del-fmi-en-su-gira-europea-milei-reitero-que-la-competencia-de-monedas-incluira-el-cierre-del-bcra/'}, 'authorId': 'HidJFGAqlxN4GkOtpuMXStxwBYB2', 'updatedAt': DatetimeWithNanoseconds(2024, 6, 25, 6, 30, 33, 58000, tzinfo=datetime.timezone.utc)}\n",
      "{'text': 'http://aiudalabs.co', 'createdAt': DatetimeWithNanoseconds(2024, 6, 25, 6, 29, 26, 118000, tzinfo=datetime.timezone.utc), 'type': 'text', 'previewData': {'title': 'Home | aiudalabs', 'image': {'height': 150.0, 'url': 'https://aiudalabs.odoo.com/web/image/website/1/logo?unique=c788b95', 'width': 150.0}, 'link': 'http://aiudalabs.co'}, 'authorId': 'HidJFGAqlxN4GkOtpuMXStxwBYB2', 'updatedAt': DatetimeWithNanoseconds(2024, 6, 25, 6, 29, 28, 561000, tzinfo=datetime.timezone.utc)}\n"
     ]
    }
   ],
   "source": [
    "messages = db.collection(\"rooms/wh6JjGjt1tP1ubfTQrA5/messages\")\n",
    "\n",
    "docs = messages.stream()\n",
    "\n",
    "for doc in docs:\n",
    "    print(doc.to_dict())"
   ]
  },
  {
   "cell_type": "code",
   "execution_count": 17,
   "metadata": {},
   "outputs": [
    {
     "data": {
      "text/plain": [
       "{'text': 'Hola',\n",
       " 'createdAt': DatetimeWithNanoseconds(2024, 7, 1, 4, 48, 41, 944000, tzinfo=datetime.timezone.utc),\n",
       " 'type': 'text',\n",
       " 'authorId': 'HidJFGAqlxN4GkOtpuMXStxwBYB2',\n",
       " 'updatedAt': DatetimeWithNanoseconds(2024, 7, 1, 4, 48, 41, 944000, tzinfo=datetime.timezone.utc)}"
      ]
     },
     "execution_count": 17,
     "metadata": {},
     "output_type": "execute_result"
    }
   ],
   "source": [
    "room_a_ref = db.collection(\"rooms\").document(\"wh6JjGjt1tP1ubfTQrA5\")\n",
    "message_ref = room_a_ref.collection(\"messages\").document(\"6Ph4n9Yk7EmgHnK8PT7V\")\n",
    "\n",
    "message_ref.get().to_dict()"
   ]
  },
  {
   "cell_type": "code",
   "execution_count": 29,
   "metadata": {},
   "outputs": [
    {
     "data": {
      "text/plain": [
       "update_time {\n",
       "  seconds: 1719811627\n",
       "  nanos: 103357000\n",
       "}"
      ]
     },
     "execution_count": 29,
     "metadata": {},
     "output_type": "execute_result"
    }
   ],
   "source": [
    "message_ref = room_a_ref.collection(\"messages\").document()\n",
    "\n",
    "message_ref.set(\n",
    "    {\n",
    "        \"text\": \"Hola Python\",\n",
    "        \"type\": \"text\",\n",
    "        \"authorId\": \"bcYT3imwF7QY6OdRnRyAY19K3Zz1\",\n",
    "        \"createdAt\": datetime.datetime.now(tz=datetime.timezone.utc),\n",
    "        \"updatedAt\": datetime.datetime.now(tz=datetime.timezone.utc),\n",
    "    }\n",
    ")"
   ]
  },
  {
   "cell_type": "code",
   "execution_count": null,
   "metadata": {},
   "outputs": [],
   "source": []
  },
  {
   "cell_type": "code",
   "execution_count": null,
   "metadata": {},
   "outputs": [],
   "source": []
  }
 ],
 "metadata": {
  "kernelspec": {
   "display_name": "venv",
   "language": "python",
   "name": "python3"
  },
  "language_info": {
   "codemirror_mode": {
    "name": "ipython",
    "version": 3
   },
   "file_extension": ".py",
   "mimetype": "text/x-python",
   "name": "python",
   "nbconvert_exporter": "python",
   "pygments_lexer": "ipython3",
   "version": "3.12.3"
  }
 },
 "nbformat": 4,
 "nbformat_minor": 2
}
