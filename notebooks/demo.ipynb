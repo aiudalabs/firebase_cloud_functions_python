{
 "cells": [
  {
   "cell_type": "code",
   "execution_count": 19,
   "metadata": {},
   "outputs": [],
   "source": [
    "import firebase_admin\n",
    "from firebase_admin import credentials\n",
    "from firebase_admin import firestore\n",
    "from google.cloud.firestore_v1.base_query import FieldFilter\n",
    "\n",
    "import datetime"
   ]
  },
  {
   "cell_type": "code",
   "execution_count": 2,
   "metadata": {},
   "outputs": [],
   "source": [
    "# Use a service account.\n",
    "cred = credentials.Certificate(\"aiuda-ffc77-1f6910e96817.json\")\n",
    "\n",
    "app = firebase_admin.initialize_app(cred)\n",
    "\n",
    "db = firestore.client()"
   ]
  },
  {
   "cell_type": "code",
   "execution_count": 30,
   "metadata": {},
   "outputs": [
    {
     "name": "stdout",
     "output_type": "stream",
     "text": [
      "{'text': 'Hello', 'createdAt': DatetimeWithNanoseconds(2024, 6, 27, 19, 37, 46, 668000, tzinfo=datetime.timezone.utc), 'type': 'text', 'authorId': 'bcYT3imwF7QY6OdRnRyAY19K3Zz1', 'updatedAt': DatetimeWithNanoseconds(2024, 6, 27, 19, 37, 46, 668000, tzinfo=datetime.timezone.utc)}\n",
      "{'text': 'Hola yomap como estas', 'createdAt': DatetimeWithNanoseconds(2024, 6, 25, 6, 15, 16, 566000, tzinfo=datetime.timezone.utc), 'type': 'text', 'authorId': 'bcYT3imwF7QY6OdRnRyAY19K3Zz1', 'updatedAt': DatetimeWithNanoseconds(2024, 6, 25, 6, 15, 16, 566000, tzinfo=datetime.timezone.utc)}\n",
      "{'text': ' Napoleón Bonaparte, emperador francés, genio militar y líder carismático que conquistó gran parte de Europa a principios del siglo XIX.', 'createdAt': DatetimeWithNanoseconds(2024, 7, 1, 6, 1, 2, 56849, tzinfo=datetime.timezone.utc), 'type': 'text', 'authorId': 'bcYT3imwF7QY6OdRnRyAY19K3Zz1', 'updatedAt': DatetimeWithNanoseconds(2024, 7, 1, 6, 1, 2, 56853, tzinfo=datetime.timezone.utc)}\n",
      "{'text': 'Hola como estas', 'createdAt': DatetimeWithNanoseconds(2024, 7, 1, 6, 26, 59, 543000, tzinfo=datetime.timezone.utc), 'type': 'text', 'authorId': 'HidJFGAqlxN4GkOtpuMXStxwBYB2', 'updatedAt': DatetimeWithNanoseconds(2024, 7, 1, 6, 26, 59, 543000, tzinfo=datetime.timezone.utc)}\n",
      "{'text': 'Hola Mundo', 'createdAt': DatetimeWithNanoseconds(2024, 7, 1, 5, 26, 36, 668610, tzinfo=datetime.timezone.utc), 'type': 'text', 'authorId': 'bcYT3imwF7QY6OdRnRyAY19K3Zz1', 'updatedAt': DatetimeWithNanoseconds(2024, 7, 1, 5, 26, 36, 668613, tzinfo=datetime.timezone.utc)}\n",
      "{'text': 'Puedes enviarme una foto?', 'createdAt': DatetimeWithNanoseconds(2024, 7, 1, 6, 29, 57, 613000, tzinfo=datetime.timezone.utc), 'type': 'text', 'authorId': 'HidJFGAqlxN4GkOtpuMXStxwBYB2', 'updatedAt': DatetimeWithNanoseconds(2024, 7, 1, 6, 29, 57, 613000, tzinfo=datetime.timezone.utc)}\n",
      "{'text': 'Hola', 'createdAt': DatetimeWithNanoseconds(2024, 7, 1, 4, 48, 41, 944000, tzinfo=datetime.timezone.utc), 'type': 'text', 'authorId': 'HidJFGAqlxN4GkOtpuMXStxwBYB2', 'updatedAt': DatetimeWithNanoseconds(2024, 7, 1, 4, 48, 41, 944000, tzinfo=datetime.timezone.utc)}\n",
      "{'text': 'Perfecto', 'createdAt': DatetimeWithNanoseconds(2024, 6, 25, 6, 20, 48, 942000, tzinfo=datetime.timezone.utc), 'type': 'text', 'authorId': 'bcYT3imwF7QY6OdRnRyAY19K3Zz1', 'updatedAt': DatetimeWithNanoseconds(2024, 6, 25, 6, 20, 48, 942000, tzinfo=datetime.timezone.utc)}\n",
      "{'text': 'Muchas gracias', 'createdAt': DatetimeWithNanoseconds(2024, 7, 1, 6, 7, 58, 253000, tzinfo=datetime.timezone.utc), 'type': 'text', 'authorId': 'HidJFGAqlxN4GkOtpuMXStxwBYB2', 'updatedAt': DatetimeWithNanoseconds(2024, 7, 1, 6, 7, 58, 253000, tzinfo=datetime.timezone.utc)}\n",
      "{'text': 'Buenas tardes, estimado usuario. ¿En qué puedo ayudarle hoy?\\n\\nComo asistente virtual, estoy diseñado para responder sus preguntas y brindar información en una amplia gama de temas. Si tiene alguna pregunta o necesita asistencia, no dude en preguntar. Haré todo lo posible para brindarle respuestas precisas y útiles.\\n\\n¿Hay algo específico en lo que pueda ayudarle hoy? Ya sea que tenga preguntas sobre hechos, historia, ciencia, tecnología o cualquier otro tema, no dude en plantearlas. También puedo ayudarle con tareas como programar citas, enviar correos electrónicos o buscar información en Internet.\\n\\nEstoy aquí para ayudarle de cualquier manera que pueda. No dude en hacerme cualquier pregunta o solicitar asistencia. Haré todo lo posible para brindarle la información y el apoyo que necesita.', 'createdAt': DatetimeWithNanoseconds(2024, 7, 1, 18, 23, 13, 523800, tzinfo=datetime.timezone.utc), 'type': 'text', 'authorId': 'bcYT3imwF7QY6OdRnRyAY19K3Zz1', 'updatedAt': DatetimeWithNanoseconds(2024, 7, 1, 18, 23, 13, 523803, tzinfo=datetime.timezone.utc)}\n",
      "{'text': 'Bueno mañana hablamos', 'createdAt': DatetimeWithNanoseconds(2024, 6, 25, 6, 28, 59, 776000, tzinfo=datetime.timezone.utc), 'type': 'text', 'authorId': 'HidJFGAqlxN4GkOtpuMXStxwBYB2', 'updatedAt': DatetimeWithNanoseconds(2024, 6, 25, 6, 28, 59, 776000, tzinfo=datetime.timezone.utc)}\n",
      "{'text': 'Jennifer Lawrence ganó el Óscar a la Mejor Actriz por su interpretación de Tiffany Maxwell en la película **El lado bueno de las cosas** (2012).\\n\\nDirigida por David O. Russell, la película es una comedia romántica que sigue la historia de Pat Solitano (Bradley Cooper), un ex profesor que recientemente salió de un hospital psiquiátrico, y Tiffany, una joven viuda inestable.\\n\\nLa interpretación de Lawrence fue ampliamente elogiada por su realismo, vulnerabilidad y humor. Capturó a la perfección la complejidad y las luchas de Tiffany, una mujer que lucha con el trastorno bipolar pero que aún anhela el amor y la aceptación.\\n\\nLawrence aportó una profundidad emocional y una gracia física al papel, creando un personaje entrañable y memorable. Su actuación fue aclamada por la crítica y el público por igual, lo que la convirtió en una de las favoritas para el Óscar.\\n\\nEn la 85ª edición de los Premios de la Academia, Lawrence se impuso a otras nominadas como Jessica Chastain (Zero Dark Thirty), Naomi Watts (Lo imposible), Emmanuelle Riva (Amor) y Quvenzhané Wallis (Beasts of the Southern Wild).\\n\\nEl Óscar a la Mejor Actriz fue un hito importante en la carrera de Lawrence, consolidándola como una de las actrices más talentosas y versátiles de su generación. Su victoria fue un testimonio de su excepcional capacidad para interpretar personajes complejos y conmovedores.', 'createdAt': DatetimeWithNanoseconds(2024, 7, 1, 7, 3, 37, 570584, tzinfo=datetime.timezone.utc), 'type': 'text', 'authorId': 'bcYT3imwF7QY6OdRnRyAY19K3Zz1', 'updatedAt': DatetimeWithNanoseconds(2024, 7, 1, 7, 3, 37, 570595, tzinfo=datetime.timezone.utc)}\n",
      "{'text': 'Como asistente digital, no tengo capacidad para tomar ni enviar fotografías. No poseo un cuerpo físico ni la capacidad de interactuar con el mundo físico de la misma manera que los humanos.\\n\\nMi función es proporcionar información y asistencia textual basada en la información a la que tengo acceso a través de Internet y los recursos de datos programados en mi sistema. Puedo responder preguntas, generar texto, traducir idiomas y realizar otras tareas relacionadas con el procesamiento del lenguaje natural.\\n\\nSin embargo, no puedo realizar acciones que requieran habilidades físicas, como tomar o enviar fotografías. Si tienes alguna pregunta que requiera información o asistencia textual, estaré encantado de ayudarte lo mejor que pueda dentro de mis capacidades.', 'createdAt': DatetimeWithNanoseconds(2024, 7, 1, 6, 30, 0, 314754, tzinfo=datetime.timezone.utc), 'type': 'text', 'authorId': 'bcYT3imwF7QY6OdRnRyAY19K3Zz1', 'updatedAt': DatetimeWithNanoseconds(2024, 7, 1, 6, 30, 0, 314759, tzinfo=datetime.timezone.utc)}\n",
      "{'text': 'Hola', 'createdAt': DatetimeWithNanoseconds(2024, 7, 1, 6, 7, 47, 914000, tzinfo=datetime.timezone.utc), 'type': 'text', 'authorId': 'HidJFGAqlxN4GkOtpuMXStxwBYB2', 'updatedAt': DatetimeWithNanoseconds(2024, 7, 1, 6, 7, 47, 914000, tzinfo=datetime.timezone.utc)}\n",
      "{'text': 'Puedes decirme algo de napoleon', 'createdAt': DatetimeWithNanoseconds(2024, 7, 1, 6, 0, 59, 775000, tzinfo=datetime.timezone.utc), 'type': 'text', 'authorId': 'HidJFGAqlxN4GkOtpuMXStxwBYB2', 'updatedAt': DatetimeWithNanoseconds(2024, 7, 1, 6, 0, 59, 775000, tzinfo=datetime.timezone.utc)}\n",
      "{'text': 'Hola', 'createdAt': DatetimeWithNanoseconds(2024, 7, 1, 6, 26, 30, 332000, tzinfo=datetime.timezone.utc), 'type': 'text', 'authorId': 'bcYT3imwF7QY6OdRnRyAY19K3Zz1', 'updatedAt': DatetimeWithNanoseconds(2024, 7, 1, 6, 26, 30, 332000, tzinfo=datetime.timezone.utc)}\n",
      "{'text': 'https://linkedin.com/in/nmlemus', 'createdAt': DatetimeWithNanoseconds(2024, 6, 25, 6, 29, 59, 149000, tzinfo=datetime.timezone.utc), 'type': 'text', 'previewData': {'description': 'I am a seasoned Data Science Professional with over 20 years of experience, driving… · Experience: Procter &amp; Gamble · Education: National Laboratory of Scientific Computing · Location: Panama · 500+ connections on LinkedIn. View Noel Moreno Lemus, Ph.D.’s profile on LinkedIn, a professional community of 1 billion members.', 'image': {'height': 200.0, 'url': 'https://media.licdn.com/dms/image/C4E03AQE_I8FiwOyb-A/profile-displayphoto-shrink_200_200/0/1590162715556?e=2147483647&v=beta&t=XRBa3JDvpQ_6TEP4t3FiNheiyq5KNNl_09gYYY6IRkE', 'width': 200.0}, 'title': 'Noel Moreno Lemus, Ph.D. - Procter & Gamble | LinkedIn', 'link': 'https://linkedin.com/in/nmlemus'}, 'authorId': 'HidJFGAqlxN4GkOtpuMXStxwBYB2', 'updatedAt': DatetimeWithNanoseconds(2024, 6, 25, 6, 30, 1, 343000, tzinfo=datetime.timezone.utc)}\n",
      "{'text': 'Todo bien', 'createdAt': DatetimeWithNanoseconds(2024, 6, 25, 6, 20, 44, 952000, tzinfo=datetime.timezone.utc), 'type': 'text', 'authorId': 'bcYT3imwF7QY6OdRnRyAY19K3Zz1', 'updatedAt': DatetimeWithNanoseconds(2024, 6, 25, 6, 20, 44, 952000, tzinfo=datetime.timezone.utc)}\n",
      "{'height': 2340.0, 'type': 'image', 'size': 209887, 'authorId': 'HidJFGAqlxN4GkOtpuMXStxwBYB2', 'uri': 'https://firebasestorage.googleapis.com/v0/b/aiuda-ffc77.appspot.com/o/scaled_1000239560.jpg?alt=media&token=a973566b-1ee4-411f-ad35-52eacd5a3f30', 'width': 1080.0, 'createdAt': DatetimeWithNanoseconds(2024, 6, 25, 6, 19, 52, 423000, tzinfo=datetime.timezone.utc), 'updatedAt': DatetimeWithNanoseconds(2024, 6, 25, 6, 19, 52, 423000, tzinfo=datetime.timezone.utc), 'name': 'scaled_1000239560.jpg'}\n",
      "{'text': 'Hola, soy un asistente listo para responder a cualquier pregunta que tengas. No dudes en preguntar y haré todo lo posible para brindarte una respuesta precisa e informativa.', 'createdAt': DatetimeWithNanoseconds(2024, 7, 1, 6, 7, 49, 93437, tzinfo=datetime.timezone.utc), 'type': 'text', 'authorId': 'bcYT3imwF7QY6OdRnRyAY19K3Zz1', 'updatedAt': DatetimeWithNanoseconds(2024, 7, 1, 6, 7, 49, 93442, tzinfo=datetime.timezone.utc)}\n",
      "{'text': 'Hola', 'createdAt': DatetimeWithNanoseconds(2024, 7, 1, 5, 59, 59, 33000, tzinfo=datetime.timezone.utc), 'type': 'text', 'authorId': 'HidJFGAqlxN4GkOtpuMXStxwBYB2', 'updatedAt': DatetimeWithNanoseconds(2024, 7, 1, 5, 59, 59, 33000, tzinfo=datetime.timezone.utc)}\n",
      "{'text': 'Hola', 'createdAt': DatetimeWithNanoseconds(2024, 6, 25, 6, 19, 3, 848000, tzinfo=datetime.timezone.utc), 'type': 'text', 'authorId': 'bcYT3imwF7QY6OdRnRyAY19K3Zz1', 'updatedAt': DatetimeWithNanoseconds(2024, 6, 25, 6, 19, 3, 848000, tzinfo=datetime.timezone.utc)}\n",
      "{'text': 'Buenas noches', 'createdAt': DatetimeWithNanoseconds(2024, 7, 1, 6, 8, 5, 949000, tzinfo=datetime.timezone.utc), 'type': 'text', 'authorId': 'HidJFGAqlxN4GkOtpuMXStxwBYB2', 'updatedAt': DatetimeWithNanoseconds(2024, 7, 1, 6, 8, 5, 949000, tzinfo=datetime.timezone.utc)}\n",
      "{'text': '**Pronóstico del tiempo para Panamá para mañana**\\n\\n**Resumen**\\n\\nSe esperan lluvias dispersas y tormentas eléctricas aisladas en Panamá durante el día de mañana.\\n\\n**Detalles del pronóstico**\\n\\n* **Por la mañana:** Cielos parcialmente nublados con probabilidad de lluvias dispersas.\\n* **Por la tarde:** Tormentas eléctricas aisladas con fuertes lluvias.\\n* **Por la noche:** Lluvias continuas con posibles tormentas eléctricas.\\n\\n**Probabilidad de lluvia**\\n\\nLa probabilidad de lluvia para mañana en Panamá es del **70-80%**.\\n\\n**Impacto**\\n\\nLas fuertes lluvias pueden provocar inundaciones localizadas, interrupciones en el tráfico y retrasos en los aeropuertos. Se recomienda tener precaución al conducir o caminar en zonas propensas a inundaciones.\\n\\n**Recomendaciones**\\n\\n* Manténgase informado de las últimas actualizaciones del pronóstico del tiempo.\\n* Verifique las rutas alternativas en caso de inundaciones.\\n* Tenga cuidado al conducir en carreteras mojadas.\\n* Evite las zonas bajas y los cruces de ríos.\\n* Tenga a mano un paraguas o impermeable.\\n\\n**Nota:** El pronóstico del tiempo puede cambiar, por lo que se recomienda consultar las últimas actualizaciones de fuentes meteorológicas oficiales antes de hacer planes.', 'createdAt': DatetimeWithNanoseconds(2024, 7, 1, 6, 9, 28, 512173, tzinfo=datetime.timezone.utc), 'type': 'text', 'authorId': 'bcYT3imwF7QY6OdRnRyAY19K3Zz1', 'updatedAt': DatetimeWithNanoseconds(2024, 7, 1, 6, 9, 28, 512178, tzinfo=datetime.timezone.utc)}\n",
      "{'text': 'Buenas noches. Espero que hayas tenido un día productivo y gratificante. Mientras la noche envuelve suavemente el mundo, es hora de relajarse, descansar y reponer energías para el día que viene.\\n\\nSumérgete en el reconfortante abrazo de la oscuridad, donde las preocupaciones del día se desvanecen en la tranquilidad de la noche. Deja que los sonidos de la noche te arrullen hasta dormir, creando una sinfonía de serenidad que calma tu mente y alivia tu cuerpo.\\n\\nEsta noche, regálate un sueño profundo y reparador. Que tus sueños sean vívidos y llenos de posibilidades, llevándote a reinos donde la imaginación florece y las aspiraciones encuentran alas. Al despertar mañana, te sentirás renovado, rejuvenecido y listo para afrontar un nuevo día con renovado vigor.\\n\\nMientras la noche se extiende ante ti, aprovecha este momento para reflexionar sobre el día que ha pasado. Reconoce tus logros, por pequeños que sean. Aprende de tus errores y utilízalos como piedras de paso hacia el crecimiento. Y, sobre todo, aprecia la belleza y la maravilla del mundo que te rodea, incluso en las horas más oscuras.\\n\\nLa noche es un momento para la introspección, la conexión y la paz. Aprovecha su magia para nutrir tu alma y prepararte para los desafíos y oportunidades que el mañana pueda deparar.\\n\\nDulces sueños y una noche tranquila para ti.', 'createdAt': DatetimeWithNanoseconds(2024, 7, 1, 6, 8, 11, 22577, tzinfo=datetime.timezone.utc), 'type': 'text', 'authorId': 'bcYT3imwF7QY6OdRnRyAY19K3Zz1', 'updatedAt': DatetimeWithNanoseconds(2024, 7, 1, 6, 8, 11, 22594, tzinfo=datetime.timezone.utc)}\n",
      "{'height': 2340.0, 'type': 'image', 'size': 202711, 'authorId': 'bcYT3imwF7QY6OdRnRyAY19K3Zz1', 'uri': 'https://firebasestorage.googleapis.com/v0/b/aiuda-ffc77.appspot.com/o/scaled_1000222181.jpg?alt=media&token=de61eb6c-0544-4412-92e0-284522a63fc9', 'width': 1080.0, 'createdAt': DatetimeWithNanoseconds(2024, 6, 27, 19, 38, 9, 630000, tzinfo=datetime.timezone.utc), 'updatedAt': DatetimeWithNanoseconds(2024, 6, 27, 19, 38, 9, 630000, tzinfo=datetime.timezone.utc), 'name': 'scaled_1000222181.jpg'}\n",
      "{'text': 'Hola', 'createdAt': DatetimeWithNanoseconds(2024, 7, 1, 5, 22, 32, 762000, tzinfo=datetime.timezone.utc), 'type': 'text', 'authorId': 'HidJFGAqlxN4GkOtpuMXStxwBYB2', 'updatedAt': DatetimeWithNanoseconds(2024, 7, 1, 5, 22, 32, 762000, tzinfo=datetime.timezone.utc)}\n",
      "{'text': 'Hola Mundo', 'createdAt': DatetimeWithNanoseconds(2024, 7, 1, 5, 26, 46, 909060, tzinfo=datetime.timezone.utc), 'type': 'text', 'authorId': 'bcYT3imwF7QY6OdRnRyAY19K3Zz1', 'updatedAt': DatetimeWithNanoseconds(2024, 7, 1, 5, 26, 46, 909062, tzinfo=datetime.timezone.utc)}\n",
      "{'text': 'Puedes escribir un poema sobre el lenguaje de programación python', 'createdAt': DatetimeWithNanoseconds(2024, 7, 1, 6, 8, 47, 241000, tzinfo=datetime.timezone.utc), 'type': 'text', 'authorId': 'HidJFGAqlxN4GkOtpuMXStxwBYB2', 'updatedAt': DatetimeWithNanoseconds(2024, 7, 1, 6, 8, 47, 241000, tzinfo=datetime.timezone.utc)}\n",
      "{'text': 'Puedes buscarme el último artículo publicado que hable de la cuantificacion de incertidumbre? Solo necesito el link', 'createdAt': DatetimeWithNanoseconds(2024, 7, 1, 6, 27, 45, 270000, tzinfo=datetime.timezone.utc), 'type': 'text', 'authorId': 'HidJFGAqlxN4GkOtpuMXStxwBYB2', 'updatedAt': DatetimeWithNanoseconds(2024, 7, 1, 6, 27, 45, 270000, tzinfo=datetime.timezone.utc)}\n",
      "{'isLoading': False, 'type': 'file', 'size': 7985, 'authorId': 'bcYT3imwF7QY6OdRnRyAY19K3Zz1', 'uri': 'https://firebasestorage.googleapis.com/v0/b/aiuda-ffc77.appspot.com/o/electricidad_junio2024.pdf?alt=media&token=1532652f-ce2e-432c-a706-36b188eda0e2', 'mimeType': 'application/pdf', 'createdAt': DatetimeWithNanoseconds(2024, 6, 27, 19, 38, 24, 969000, tzinfo=datetime.timezone.utc), 'updatedAt': DatetimeWithNanoseconds(2024, 6, 27, 19, 38, 27, 489000, tzinfo=datetime.timezone.utc), 'name': 'electricidad_junio2024.pdf'}\n",
      "{'text': 'Que hay en la foto del mensaje anterior?', 'createdAt': DatetimeWithNanoseconds(2024, 7, 1, 6, 10, 18, 644000, tzinfo=datetime.timezone.utc), 'type': 'text', 'authorId': 'HidJFGAqlxN4GkOtpuMXStxwBYB2', 'updatedAt': DatetimeWithNanoseconds(2024, 7, 1, 6, 10, 18, 644000, tzinfo=datetime.timezone.utc)}\n",
      "{'text': 'Como estás', 'createdAt': DatetimeWithNanoseconds(2024, 6, 25, 6, 20, 35, 440000, tzinfo=datetime.timezone.utc), 'type': 'text', 'authorId': 'HidJFGAqlxN4GkOtpuMXStxwBYB2', 'updatedAt': DatetimeWithNanoseconds(2024, 6, 25, 6, 20, 35, 440000, tzinfo=datetime.timezone.utc)}\n",
      "{'text': '**Python, el Lenguaje Mágico**\\n\\nEn el reino de los bits y los bytes,\\nDonde los datos fluyen como cascadas luminosas,\\nSurge Python, un lenguaje con poder y gracia,\\nUn maestro de la computación, un sendero hacia la grandeza.\\n\\nSus sintaxis, claras como el cristal,\\nPermiten a los novatos trepar con facilidad,\\nMientras que la profundidad de sus bibliotecas marinas,\\nAtrae a los expertos, deseosos de profundizar.\\n\\nComo una serpiente sabia, se desliza sin esfuerzo,\\nA través de líneas de código, encontrando soluciones,\\nDesde tareas simples hasta complejos algoritmos,\\nPython se adapta, un camaleón del mundo de la programación.\\n\\nEl aprendizaje automático, su ámbito,\\nEntrena modelos para predecir y reconocer,\\nEl análisis de datos, su lienzo,\\nDonde los números cobran vida, revelando verdades ocultas.\\n\\nEn la web, brilla con elegancia,\\nCreando sitios web dinámicos y aplicaciones robustas,\\nEl desarrollo de juegos, su tierra de fantasía,\\nDonde los mundos virtuales cobran vida con su toque.\\n\\nPython, el lenguaje de las posibilidades infinitas,\\nEmpodera a los innovadores, conecta a los soñadores,\\nUn instrumento de progreso, un faro de crecimiento,\\nGuiando a la humanidad hacia un futuro aún más brillante.', 'createdAt': DatetimeWithNanoseconds(2024, 7, 1, 6, 8, 51, 914557, tzinfo=datetime.timezone.utc), 'type': 'text', 'authorId': 'bcYT3imwF7QY6OdRnRyAY19K3Zz1', 'updatedAt': DatetimeWithNanoseconds(2024, 7, 1, 6, 8, 51, 914562, tzinfo=datetime.timezone.utc)}\n",
      "{'text': 'Que fue napoleón', 'createdAt': DatetimeWithNanoseconds(2024, 7, 1, 6, 5, 36, 839000, tzinfo=datetime.timezone.utc), 'type': 'text', 'authorId': 'HidJFGAqlxN4GkOtpuMXStxwBYB2', 'updatedAt': DatetimeWithNanoseconds(2024, 7, 1, 6, 5, 36, 839000, tzinfo=datetime.timezone.utc)}\n",
      "{'text': 'Albert Einstein fue un físico teórico que desarrolló la teoría de la relatividad y la teoría de la gravitación.', 'createdAt': DatetimeWithNanoseconds(2024, 7, 1, 6, 2, 5, 577860, tzinfo=datetime.timezone.utc), 'type': 'text', 'authorId': 'bcYT3imwF7QY6OdRnRyAY19K3Zz1', 'updatedAt': DatetimeWithNanoseconds(2024, 7, 1, 6, 2, 5, 577864, tzinfo=datetime.timezone.utc)}\n",
      "{'height': 1440.0, 'type': 'image', 'size': 166571, 'authorId': 'HidJFGAqlxN4GkOtpuMXStxwBYB2', 'uri': 'https://firebasestorage.googleapis.com/v0/b/aiuda-ffc77.appspot.com/o/scaled_1000244892.jpg?alt=media&token=3f5ca320-03f2-4abb-beaa-1e20e29c5757', 'width': 1080.0, 'createdAt': DatetimeWithNanoseconds(2024, 7, 1, 6, 9, 52, 132000, tzinfo=datetime.timezone.utc), 'updatedAt': DatetimeWithNanoseconds(2024, 7, 1, 6, 9, 52, 132000, tzinfo=datetime.timezone.utc), 'name': 'scaled_1000244892.jpg'}\n",
      "{'text': 'En este momento, como asistente virtual, no poseo un estado emocional ni la capacidad de experimentar sentimientos. Soy un programa informático diseñado para brindar información y asistencia según mis conocimientos y capacidades. Por lo tanto, no puedo responder a preguntas sobre mi bienestar emocional.\\n\\nSi tienes alguna pregunta o necesitas ayuda con algo en particular, estaré encantado de brindarte asistencia en la medida de mis posibilidades. No dudes en preguntar.', 'createdAt': DatetimeWithNanoseconds(2024, 7, 1, 6, 27, 2, 567635, tzinfo=datetime.timezone.utc), 'type': 'text', 'authorId': 'bcYT3imwF7QY6OdRnRyAY19K3Zz1', 'updatedAt': DatetimeWithNanoseconds(2024, 7, 1, 6, 27, 2, 567640, tzinfo=datetime.timezone.utc)}\n",
      "{'text': 'Albert Einstein, físico teórico alemán, desarrolló la teoría de la relatividad, la equivalencia masa-energía (E=mc²) y la teoría cuántica de la luz.', 'createdAt': DatetimeWithNanoseconds(2024, 7, 1, 6, 2, 23, 598691, tzinfo=datetime.timezone.utc), 'type': 'text', 'authorId': 'bcYT3imwF7QY6OdRnRyAY19K3Zz1', 'updatedAt': DatetimeWithNanoseconds(2024, 7, 1, 6, 2, 23, 598696, tzinfo=datetime.timezone.utc)}\n",
      "{'text': 'Quien fue Albert Einstein', 'createdAt': DatetimeWithNanoseconds(2024, 7, 1, 6, 4, 48, 405000, tzinfo=datetime.timezone.utc), 'type': 'text', 'authorId': 'HidJFGAqlxN4GkOtpuMXStxwBYB2', 'updatedAt': DatetimeWithNanoseconds(2024, 7, 1, 6, 4, 48, 405000, tzinfo=datetime.timezone.utc)}\n",
      "{'text': 'Por que pelicula ganó Jennifer Lawrence El oscar', 'createdAt': DatetimeWithNanoseconds(2024, 7, 1, 7, 3, 27, 420000, tzinfo=datetime.timezone.utc), 'type': 'text', 'authorId': 'HidJFGAqlxN4GkOtpuMXStxwBYB2', 'updatedAt': DatetimeWithNanoseconds(2024, 7, 1, 7, 3, 27, 420000, tzinfo=datetime.timezone.utc)}\n",
      "{'text': 'Hola buenas tardes', 'createdAt': DatetimeWithNanoseconds(2024, 7, 1, 18, 23, 4, 575000, tzinfo=datetime.timezone.utc), 'type': 'text', 'authorId': 'HidJFGAqlxN4GkOtpuMXStxwBYB2', 'updatedAt': DatetimeWithNanoseconds(2024, 7, 1, 18, 23, 4, 575000, tzinfo=datetime.timezone.utc)}\n",
      "{'text': '**Albert Einstein (1879-1955)**\\n\\nAlbert Einstein fue un físico teórico alemán que revolucionó nuestra comprensión del universo con sus teorías sobre la relatividad y la física cuántica.\\n\\n**Primeros años y educación:**\\n\\n* Nació el 14 de marzo de 1879 en Ulm, Alemania.\\n* Mostró un talento temprano para las matemáticas y la física.\\n* Estudió en la Escuela Politécnica Federal de Zúrich, donde se graduó en 1900.\\n\\n**Carrera y descubrimientos:**\\n\\n* En 1905, el \"año milagroso de Einstein\", publicó cuatro artículos fundamentales:\\n    * Sobre el efecto fotoeléctrico (por el que recibió el Premio Nobel de Física en 1921)\\n    * Sobre el movimiento browniano\\n    * Sobre la relatividad especial\\n    * Sobre la equivalencia masa-energía (E=mc²)\\n* En 1915, publicó la teoría de la relatividad general, que describía la gravedad como una curvatura del espacio-tiempo.\\n\\n**Relatividad especial y general:**\\n\\n* La teoría de la relatividad especial afirmó que las leyes de la física son las mismas para todos los observadores en movimiento uniforme.\\n* La relatividad general amplió esto, describiendo cómo la presencia de masa y energía curva el espacio-tiempo, que a su vez influye en el movimiento de los objetos.\\n\\n**Otras contribuciones:**\\n\\n* Además de sus teorías sobre la relatividad, Einstein hizo contribuciones significativas a la física cuántica, la cosmología y la filosofía de la ciencia.\\n* Ayudó a desarrollar la teoría cuántica de la luz y predijo la existencia de las ondas gravitacionales.\\n\\n**Legado:**\\n\\n* Einstein fue uno de los científicos más influyentes de todos los tiempos.\\n* Sus teorías sentaron las bases para gran parte de la física moderna.\\n* Es considerado un genio y un visionario cuya mente revolucionó nuestra comprensión del universo.', 'createdAt': DatetimeWithNanoseconds(2024, 7, 1, 6, 6, 16, 812313, tzinfo=datetime.timezone.utc), 'type': 'text', 'authorId': 'bcYT3imwF7QY6OdRnRyAY19K3Zz1', 'updatedAt': DatetimeWithNanoseconds(2024, 7, 1, 6, 6, 16, 812318, tzinfo=datetime.timezone.utc)}\n",
      "{'text': 'Quien fue Einstein', 'createdAt': DatetimeWithNanoseconds(2024, 7, 1, 6, 6, 10, 7000, tzinfo=datetime.timezone.utc), 'type': 'text', 'authorId': 'HidJFGAqlxN4GkOtpuMXStxwBYB2', 'updatedAt': DatetimeWithNanoseconds(2024, 7, 1, 6, 6, 10, 7000, tzinfo=datetime.timezone.utc)}\n",
      "{'text': 'Como estas', 'createdAt': DatetimeWithNanoseconds(2024, 6, 25, 6, 19, 45, 794000, tzinfo=datetime.timezone.utc), 'type': 'text', 'authorId': 'HidJFGAqlxN4GkOtpuMXStxwBYB2', 'updatedAt': DatetimeWithNanoseconds(2024, 6, 25, 6, 19, 45, 794000, tzinfo=datetime.timezone.utc)}\n",
      "{'text': 'Hola', 'createdAt': DatetimeWithNanoseconds(2024, 6, 25, 6, 19, 41, 904000, tzinfo=datetime.timezone.utc), 'type': 'text', 'authorId': 'HidJFGAqlxN4GkOtpuMXStxwBYB2', 'updatedAt': DatetimeWithNanoseconds(2024, 6, 25, 6, 19, 41, 904000, tzinfo=datetime.timezone.utc)}\n",
      "{'text': 'Gracias', 'createdAt': DatetimeWithNanoseconds(2024, 6, 25, 6, 20, 50, 926000, tzinfo=datetime.timezone.utc), 'type': 'text', 'authorId': 'bcYT3imwF7QY6OdRnRyAY19K3Zz1', 'updatedAt': DatetimeWithNanoseconds(2024, 6, 25, 6, 20, 50, 926000, tzinfo=datetime.timezone.utc)}\n",
      "{'text': 'Google.com', 'createdAt': DatetimeWithNanoseconds(2024, 6, 25, 6, 14, 51, 854000, tzinfo=datetime.timezone.utc), 'type': 'text', 'previewData': {'link': 'https://Google.com'}, 'authorId': 'bcYT3imwF7QY6OdRnRyAY19K3Zz1', 'updatedAt': DatetimeWithNanoseconds(2024, 6, 25, 6, 14, 52, 925000, tzinfo=datetime.timezone.utc)}\n",
      "{'text': 'El trasfondo histórico de la Guerra de los Cien Años es complejo y está entrelazado con varios factores políticos, económicos y sociales que dieron forma al conflicto prolongado entre Inglaterra y Francia.\\n\\nEn primer lugar, el reclamo de sucesión al trono francés fue un punto de discordia fundamental. Tras la muerte del rey Carlos IV de Francia en 1328 sin un heredero varón, surgió una disputa sobre quién tenía derecho al trono. El rey Eduardo III de Inglaterra, que era sobrino de Carlos IV, afirmó su derecho al trono francés basándose en su ascendencia materna. Sin embargo, la ley francesa establecía que el trono solo podía pasar a través de la línea masculina, lo que descalificaba el reclamo de Eduardo.\\n\\nLas tensiones económicas también contribuyeron al conflicto. Inglaterra tenía una economía próspera basada en el comercio de lana, mientras que Francia era una potencia agrícola. Los comerciantes ingleses resentían las restricciones comerciales impuestas por Francia y buscaban expandir sus mercados en el continente. Además, Francia había devaluado su moneda, lo que perjudicaba los intereses económicos de los comerciantes ingleses.\\n\\nAdemás, el apoyo papal fue crucial para el curso de la guerra. El papado, con sede en Aviñón, Francia, inicialmente apoyó a Francia. Sin embargo, la influencia inglesa creció con el tiempo y el Papa Inocencio VI finalmente reconoció el derecho de Eduardo al trono francés en 1365. Este reconocimiento proporcionó a Inglaterra un impulso moral y político significativo.\\n\\nLa Guerra de los Cien Años también se caracterizó por innovaciones militares. Los ingleses introdujeron el arco largo, un arma formidable que podía penetrar armaduras a distancias considerables. También desarrollaron nuevas tácticas, como la formación de batalla conocida como \"batalla de Azincourt\". Estas innovaciones дали Inglaterra una ventaja militar sobre los ejércitos franceses durante las primeras etapas de la guerra.\\n\\nEn resumen, el trasfondo histórico de la Guerra de los Cien Años es un tapiz complejo de reclamos sucesorios, tensiones económicas, apoyo papal e innovaciones militares. Estos factores se combinaron para crear un conflicto prolongado que dio forma al curso de la historia europea.', 'createdAt': DatetimeWithNanoseconds(2024, 7, 1, 6, 8, 5, 368124, tzinfo=datetime.timezone.utc), 'type': 'text', 'authorId': 'bcYT3imwF7QY6OdRnRyAY19K3Zz1', 'updatedAt': DatetimeWithNanoseconds(2024, 7, 1, 6, 8, 5, 368129, tzinfo=datetime.timezone.utc)}\n",
      "{'text': 'Napoleón Bonaparte fue un general militar y político francés que saltó a la fama durante la Revolución Francesa y finalmente se convirtió en Emperador de los Franceses. Nació en Córcega en 1769 y recibió una educación militar en Francia.\\n\\nAscendió rápidamente de rango durante las Guerras Revolucionarias Francesas, demostrando un brillante liderazgo y audacia estratégica. En 1799, organizó un golpe de estado y se convirtió en Primer Cónsul de Francia, asumiendo efectivamente el control del país.\\n\\nBajo el liderazgo de Napoleón, Francia experimentó un período de expansión y gloria militar. Conquistó gran parte de Europa, estableciendo el Imperio francés y transformando las estructuras políticas y sociales de los territorios ocupados.\\n\\nNapoleón introdujo importantes reformas en Francia, incluido el Código Napoleónico, que sigue siendo la base del derecho civil francés. También modernizó la administración, la educación y la infraestructura del país.\\n\\nSin embargo, las ambiciones de Napoleón finalmente llevaron a su caída. Su invasión de Rusia en 1812 resultó desastrosa, y sus ejércitos fueron derrotados en la Batalla de Leipzig en 1813. Fue exiliado a la isla de Elba, pero escapó y regresó a Francia en 1815, lo que provocó los Cien Días. Fue finalmente derrotado en la Batalla de Waterloo y exiliado a Santa Elena, donde murió en 1821.\\n\\nNapoleón es una figura compleja y controvertida. Es admirado por su genio militar y sus logros políticos, pero también es criticado por su ambición y militarismo. Sigue siendo una figura fascinante en la historia europea, y su legado continúa siendo debatido.', 'createdAt': DatetimeWithNanoseconds(2024, 7, 1, 6, 5, 44, 27238, tzinfo=datetime.timezone.utc), 'type': 'text', 'authorId': 'bcYT3imwF7QY6OdRnRyAY19K3Zz1', 'updatedAt': DatetimeWithNanoseconds(2024, 7, 1, 6, 5, 44, 27243, tzinfo=datetime.timezone.utc)}\n",
      "{'text': 'https://www.infobae.com/economia/2024/06/23/a-pesar-de-la-recomendacion-del-fmi-en-su-gira-europea-milei-reitero-que-la-competencia-de-monedas-incluira-el-cierre-del-bcra/', 'createdAt': DatetimeWithNanoseconds(2024, 6, 25, 6, 30, 31, 936000, tzinfo=datetime.timezone.utc), 'type': 'text', 'previewData': {'description': 'El organismo opina que la entidad central debería tener un rol de prestamista de última instancia y de manejo de liquidez. El presidente volvió a mencionar que la emisión monetaria será declarado “delito de lesa humanidad”', 'image': {'height': 630.0, 'url': 'https://www.infobae.com/new-resizer/mKC2TiCNS5DjO46I6HFZ25NF0xs=/1200x630/filters:format(webp):quality(85)/cloudfront-us-east-1.images.arcpublishing.com/infobae/WGNCLMRMKRCCFPX7WHD56H3MJU.jpg', 'width': 1200.0}, 'title': 'Pese a la recomendación contraria del FMI, en su gira europea Milei reiteró que la competencia de monedas incluirá el cierre del BCRA - Infobae', 'link': 'https://www.infobae.com/economia/2024/06/23/a-pesar-de-la-recomendacion-del-fmi-en-su-gira-europea-milei-reitero-que-la-competencia-de-monedas-incluira-el-cierre-del-bcra/'}, 'authorId': 'HidJFGAqlxN4GkOtpuMXStxwBYB2', 'updatedAt': DatetimeWithNanoseconds(2024, 6, 25, 6, 30, 33, 58000, tzinfo=datetime.timezone.utc)}\n",
      "{'text': 'Puedes escribir más de 30 palabras sobre Einstein', 'createdAt': DatetimeWithNanoseconds(2024, 7, 1, 6, 2, 22, 302000, tzinfo=datetime.timezone.utc), 'type': 'text', 'authorId': 'HidJFGAqlxN4GkOtpuMXStxwBYB2', 'updatedAt': DatetimeWithNanoseconds(2024, 7, 1, 6, 2, 22, 302000, tzinfo=datetime.timezone.utc)}\n",
      "{'text': 'Hola Python', 'createdAt': DatetimeWithNanoseconds(2024, 7, 1, 5, 27, 7, 35024, tzinfo=datetime.timezone.utc), 'type': 'text', 'authorId': 'bcYT3imwF7QY6OdRnRyAY19K3Zz1', 'updatedAt': DatetimeWithNanoseconds(2024, 7, 1, 5, 27, 7, 35026, tzinfo=datetime.timezone.utc)}\n",
      "{'text': 'http://aiudalabs.co', 'createdAt': DatetimeWithNanoseconds(2024, 6, 25, 6, 29, 26, 118000, tzinfo=datetime.timezone.utc), 'type': 'text', 'previewData': {'title': 'Home | aiudalabs', 'image': {'height': 150.0, 'url': 'https://aiudalabs.odoo.com/web/image/website/1/logo?unique=c788b95', 'width': 150.0}, 'link': 'http://aiudalabs.co'}, 'authorId': 'HidJFGAqlxN4GkOtpuMXStxwBYB2', 'updatedAt': DatetimeWithNanoseconds(2024, 6, 25, 6, 29, 28, 561000, tzinfo=datetime.timezone.utc)}\n",
      "{'text': 'Hola Mundo', 'createdAt': DatetimeWithNanoseconds(2024, 7, 1, 5, 26, 39, 27968, tzinfo=datetime.timezone.utc), 'type': 'text', 'authorId': 'bcYT3imwF7QY6OdRnRyAY19K3Zz1', 'updatedAt': DatetimeWithNanoseconds(2024, 7, 1, 5, 26, 39, 27971, tzinfo=datetime.timezone.utc)}\n",
      "{'text': 'Puedes decirme si mañana va a llover en panamá?', 'createdAt': DatetimeWithNanoseconds(2024, 7, 1, 6, 9, 23, 834000, tzinfo=datetime.timezone.utc), 'type': 'text', 'authorId': 'HidJFGAqlxN4GkOtpuMXStxwBYB2', 'updatedAt': DatetimeWithNanoseconds(2024, 7, 1, 6, 9, 23, 834000, tzinfo=datetime.timezone.utc)}\n",
      "{'text': 'Y de Einstein', 'createdAt': DatetimeWithNanoseconds(2024, 7, 1, 6, 2, 3, 472000, tzinfo=datetime.timezone.utc), 'type': 'text', 'authorId': 'HidJFGAqlxN4GkOtpuMXStxwBYB2', 'updatedAt': DatetimeWithNanoseconds(2024, 7, 1, 6, 2, 3, 472000, tzinfo=datetime.timezone.utc)}\n",
      "{'text': '* **[Measurement uncertainty in micro-computed tomography images: A review of the state-of-the-art](https://www.sciencedirect.com/science/article/pii/S0924013622002249)**\\n\\nEste artículo proporciona una revisión completa del estado actual de la cuantificación de la incertidumbre en imágenes de microtomografía computarizada (micro-CT). Analiza los diferentes métodos utilizados para evaluar y propagar la incertidumbre, y destaca las áreas donde se necesitan más investigaciones. El artículo también proporciona recomendaciones para mejorar la precisión y fiabilidad de las mediciones de micro-CT.', 'createdAt': DatetimeWithNanoseconds(2024, 7, 1, 6, 27, 47, 934500, tzinfo=datetime.timezone.utc), 'type': 'text', 'authorId': 'bcYT3imwF7QY6OdRnRyAY19K3Zz1', 'updatedAt': DatetimeWithNanoseconds(2024, 7, 1, 6, 27, 47, 934505, tzinfo=datetime.timezone.utc)}\n",
      "{'text': 'Actualmente, no tengo acceso al mensaje anterior o a su foto, por lo que no puedo proporcionar una descripción de su contenido. Para obtener información sobre el contenido de una foto en un mensaje anterior, puedes consultarlo directamente en tu aplicación de mensajería o pedirle al remitente que te la vuelva a enviar.', 'createdAt': DatetimeWithNanoseconds(2024, 7, 1, 6, 10, 20, 300602, tzinfo=datetime.timezone.utc), 'type': 'text', 'authorId': 'bcYT3imwF7QY6OdRnRyAY19K3Zz1', 'updatedAt': DatetimeWithNanoseconds(2024, 7, 1, 6, 10, 20, 300608, tzinfo=datetime.timezone.utc)}\n"
     ]
    }
   ],
   "source": [
    "categories = db.collection(\"rooms/wh6JjGjt1tP1ubfTQrA5/messages\")\n",
    "docs = categories.stream()\n",
    "\n",
    "for doc in docs:\n",
    "    print(doc.to_dict())"
   ]
  },
  {
   "cell_type": "code",
   "execution_count": 5,
   "metadata": {},
   "outputs": [
    {
     "data": {
      "text/plain": [
       "{'text': 'http://aiudalabs.co',\n",
       " 'createdAt': DatetimeWithNanoseconds(2024, 6, 25, 6, 29, 26, 118000, tzinfo=datetime.timezone.utc),\n",
       " 'type': 'text',\n",
       " 'previewData': {'title': 'Home | aiudalabs',\n",
       "  'image': {'height': 150.0,\n",
       "   'url': 'https://aiudalabs.odoo.com/web/image/website/1/logo?unique=c788b95',\n",
       "   'width': 150.0},\n",
       "  'link': 'http://aiudalabs.co'},\n",
       " 'authorId': 'HidJFGAqlxN4GkOtpuMXStxwBYB2',\n",
       " 'updatedAt': DatetimeWithNanoseconds(2024, 6, 25, 6, 29, 28, 561000, tzinfo=datetime.timezone.utc)}"
      ]
     },
     "execution_count": 5,
     "metadata": {},
     "output_type": "execute_result"
    }
   ],
   "source": [
    "doc.to_dict()"
   ]
  },
  {
   "cell_type": "markdown",
   "metadata": {},
   "source": [
    "# Add elements to the table"
   ]
  },
  {
   "cell_type": "code",
   "execution_count": 13,
   "metadata": {},
   "outputs": [
    {
     "name": "stdout",
     "output_type": "stream",
     "text": [
      "{'text': 'Hello', 'createdAt': DatetimeWithNanoseconds(2024, 6, 27, 19, 37, 46, 668000, tzinfo=datetime.timezone.utc), 'type': 'text', 'authorId': 'bcYT3imwF7QY6OdRnRyAY19K3Zz1', 'updatedAt': DatetimeWithNanoseconds(2024, 6, 27, 19, 37, 46, 668000, tzinfo=datetime.timezone.utc)}\n",
      "{'text': 'Hola yomap como estas', 'createdAt': DatetimeWithNanoseconds(2024, 6, 25, 6, 15, 16, 566000, tzinfo=datetime.timezone.utc), 'type': 'text', 'authorId': 'bcYT3imwF7QY6OdRnRyAY19K3Zz1', 'updatedAt': DatetimeWithNanoseconds(2024, 6, 25, 6, 15, 16, 566000, tzinfo=datetime.timezone.utc)}\n",
      "{'text': 'Hola', 'createdAt': DatetimeWithNanoseconds(2024, 7, 1, 4, 48, 41, 944000, tzinfo=datetime.timezone.utc), 'type': 'text', 'authorId': 'HidJFGAqlxN4GkOtpuMXStxwBYB2', 'updatedAt': DatetimeWithNanoseconds(2024, 7, 1, 4, 48, 41, 944000, tzinfo=datetime.timezone.utc)}\n",
      "{'text': 'Perfecto', 'createdAt': DatetimeWithNanoseconds(2024, 6, 25, 6, 20, 48, 942000, tzinfo=datetime.timezone.utc), 'type': 'text', 'authorId': 'bcYT3imwF7QY6OdRnRyAY19K3Zz1', 'updatedAt': DatetimeWithNanoseconds(2024, 6, 25, 6, 20, 48, 942000, tzinfo=datetime.timezone.utc)}\n",
      "{'text': 'Bueno mañana hablamos', 'createdAt': DatetimeWithNanoseconds(2024, 6, 25, 6, 28, 59, 776000, tzinfo=datetime.timezone.utc), 'type': 'text', 'authorId': 'HidJFGAqlxN4GkOtpuMXStxwBYB2', 'updatedAt': DatetimeWithNanoseconds(2024, 6, 25, 6, 28, 59, 776000, tzinfo=datetime.timezone.utc)}\n",
      "{'text': 'https://linkedin.com/in/nmlemus', 'createdAt': DatetimeWithNanoseconds(2024, 6, 25, 6, 29, 59, 149000, tzinfo=datetime.timezone.utc), 'type': 'text', 'previewData': {'description': 'I am a seasoned Data Science Professional with over 20 years of experience, driving… · Experience: Procter &amp; Gamble · Education: National Laboratory of Scientific Computing · Location: Panama · 500+ connections on LinkedIn. View Noel Moreno Lemus, Ph.D.’s profile on LinkedIn, a professional community of 1 billion members.', 'image': {'height': 200.0, 'url': 'https://media.licdn.com/dms/image/C4E03AQE_I8FiwOyb-A/profile-displayphoto-shrink_200_200/0/1590162715556?e=2147483647&v=beta&t=XRBa3JDvpQ_6TEP4t3FiNheiyq5KNNl_09gYYY6IRkE', 'width': 200.0}, 'title': 'Noel Moreno Lemus, Ph.D. - Procter & Gamble | LinkedIn', 'link': 'https://linkedin.com/in/nmlemus'}, 'authorId': 'HidJFGAqlxN4GkOtpuMXStxwBYB2', 'updatedAt': DatetimeWithNanoseconds(2024, 6, 25, 6, 30, 1, 343000, tzinfo=datetime.timezone.utc)}\n",
      "{'text': 'Todo bien', 'createdAt': DatetimeWithNanoseconds(2024, 6, 25, 6, 20, 44, 952000, tzinfo=datetime.timezone.utc), 'type': 'text', 'authorId': 'bcYT3imwF7QY6OdRnRyAY19K3Zz1', 'updatedAt': DatetimeWithNanoseconds(2024, 6, 25, 6, 20, 44, 952000, tzinfo=datetime.timezone.utc)}\n",
      "{'height': 2340.0, 'type': 'image', 'size': 209887, 'authorId': 'HidJFGAqlxN4GkOtpuMXStxwBYB2', 'uri': 'https://firebasestorage.googleapis.com/v0/b/aiuda-ffc77.appspot.com/o/scaled_1000239560.jpg?alt=media&token=a973566b-1ee4-411f-ad35-52eacd5a3f30', 'width': 1080.0, 'createdAt': DatetimeWithNanoseconds(2024, 6, 25, 6, 19, 52, 423000, tzinfo=datetime.timezone.utc), 'updatedAt': DatetimeWithNanoseconds(2024, 6, 25, 6, 19, 52, 423000, tzinfo=datetime.timezone.utc), 'name': 'scaled_1000239560.jpg'}\n",
      "{'text': 'Hola', 'createdAt': DatetimeWithNanoseconds(2024, 6, 25, 6, 19, 3, 848000, tzinfo=datetime.timezone.utc), 'type': 'text', 'authorId': 'bcYT3imwF7QY6OdRnRyAY19K3Zz1', 'updatedAt': DatetimeWithNanoseconds(2024, 6, 25, 6, 19, 3, 848000, tzinfo=datetime.timezone.utc)}\n",
      "{'height': 2340.0, 'type': 'image', 'size': 202711, 'authorId': 'bcYT3imwF7QY6OdRnRyAY19K3Zz1', 'uri': 'https://firebasestorage.googleapis.com/v0/b/aiuda-ffc77.appspot.com/o/scaled_1000222181.jpg?alt=media&token=de61eb6c-0544-4412-92e0-284522a63fc9', 'width': 1080.0, 'createdAt': DatetimeWithNanoseconds(2024, 6, 27, 19, 38, 9, 630000, tzinfo=datetime.timezone.utc), 'updatedAt': DatetimeWithNanoseconds(2024, 6, 27, 19, 38, 9, 630000, tzinfo=datetime.timezone.utc), 'name': 'scaled_1000222181.jpg'}\n",
      "{'isLoading': False, 'type': 'file', 'size': 7985, 'authorId': 'bcYT3imwF7QY6OdRnRyAY19K3Zz1', 'uri': 'https://firebasestorage.googleapis.com/v0/b/aiuda-ffc77.appspot.com/o/electricidad_junio2024.pdf?alt=media&token=1532652f-ce2e-432c-a706-36b188eda0e2', 'mimeType': 'application/pdf', 'createdAt': DatetimeWithNanoseconds(2024, 6, 27, 19, 38, 24, 969000, tzinfo=datetime.timezone.utc), 'updatedAt': DatetimeWithNanoseconds(2024, 6, 27, 19, 38, 27, 489000, tzinfo=datetime.timezone.utc), 'name': 'electricidad_junio2024.pdf'}\n",
      "{'text': 'Como estás', 'createdAt': DatetimeWithNanoseconds(2024, 6, 25, 6, 20, 35, 440000, tzinfo=datetime.timezone.utc), 'type': 'text', 'authorId': 'HidJFGAqlxN4GkOtpuMXStxwBYB2', 'updatedAt': DatetimeWithNanoseconds(2024, 6, 25, 6, 20, 35, 440000, tzinfo=datetime.timezone.utc)}\n",
      "{'text': 'Como estas', 'createdAt': DatetimeWithNanoseconds(2024, 6, 25, 6, 19, 45, 794000, tzinfo=datetime.timezone.utc), 'type': 'text', 'authorId': 'HidJFGAqlxN4GkOtpuMXStxwBYB2', 'updatedAt': DatetimeWithNanoseconds(2024, 6, 25, 6, 19, 45, 794000, tzinfo=datetime.timezone.utc)}\n",
      "{'text': 'Hola', 'createdAt': DatetimeWithNanoseconds(2024, 6, 25, 6, 19, 41, 904000, tzinfo=datetime.timezone.utc), 'type': 'text', 'authorId': 'HidJFGAqlxN4GkOtpuMXStxwBYB2', 'updatedAt': DatetimeWithNanoseconds(2024, 6, 25, 6, 19, 41, 904000, tzinfo=datetime.timezone.utc)}\n",
      "{'text': 'Gracias', 'createdAt': DatetimeWithNanoseconds(2024, 6, 25, 6, 20, 50, 926000, tzinfo=datetime.timezone.utc), 'type': 'text', 'authorId': 'bcYT3imwF7QY6OdRnRyAY19K3Zz1', 'updatedAt': DatetimeWithNanoseconds(2024, 6, 25, 6, 20, 50, 926000, tzinfo=datetime.timezone.utc)}\n",
      "{'text': 'Google.com', 'createdAt': DatetimeWithNanoseconds(2024, 6, 25, 6, 14, 51, 854000, tzinfo=datetime.timezone.utc), 'type': 'text', 'previewData': {'link': 'https://Google.com'}, 'authorId': 'bcYT3imwF7QY6OdRnRyAY19K3Zz1', 'updatedAt': DatetimeWithNanoseconds(2024, 6, 25, 6, 14, 52, 925000, tzinfo=datetime.timezone.utc)}\n",
      "{'text': 'https://www.infobae.com/economia/2024/06/23/a-pesar-de-la-recomendacion-del-fmi-en-su-gira-europea-milei-reitero-que-la-competencia-de-monedas-incluira-el-cierre-del-bcra/', 'createdAt': DatetimeWithNanoseconds(2024, 6, 25, 6, 30, 31, 936000, tzinfo=datetime.timezone.utc), 'type': 'text', 'previewData': {'description': 'El organismo opina que la entidad central debería tener un rol de prestamista de última instancia y de manejo de liquidez. El presidente volvió a mencionar que la emisión monetaria será declarado “delito de lesa humanidad”', 'image': {'height': 630.0, 'url': 'https://www.infobae.com/new-resizer/mKC2TiCNS5DjO46I6HFZ25NF0xs=/1200x630/filters:format(webp):quality(85)/cloudfront-us-east-1.images.arcpublishing.com/infobae/WGNCLMRMKRCCFPX7WHD56H3MJU.jpg', 'width': 1200.0}, 'title': 'Pese a la recomendación contraria del FMI, en su gira europea Milei reiteró que la competencia de monedas incluirá el cierre del BCRA - Infobae', 'link': 'https://www.infobae.com/economia/2024/06/23/a-pesar-de-la-recomendacion-del-fmi-en-su-gira-europea-milei-reitero-que-la-competencia-de-monedas-incluira-el-cierre-del-bcra/'}, 'authorId': 'HidJFGAqlxN4GkOtpuMXStxwBYB2', 'updatedAt': DatetimeWithNanoseconds(2024, 6, 25, 6, 30, 33, 58000, tzinfo=datetime.timezone.utc)}\n",
      "{'text': 'http://aiudalabs.co', 'createdAt': DatetimeWithNanoseconds(2024, 6, 25, 6, 29, 26, 118000, tzinfo=datetime.timezone.utc), 'type': 'text', 'previewData': {'title': 'Home | aiudalabs', 'image': {'height': 150.0, 'url': 'https://aiudalabs.odoo.com/web/image/website/1/logo?unique=c788b95', 'width': 150.0}, 'link': 'http://aiudalabs.co'}, 'authorId': 'HidJFGAqlxN4GkOtpuMXStxwBYB2', 'updatedAt': DatetimeWithNanoseconds(2024, 6, 25, 6, 29, 28, 561000, tzinfo=datetime.timezone.utc)}\n"
     ]
    }
   ],
   "source": [
    "messages = db.collection(\"rooms/wh6JjGjt1tP1ubfTQrA5/messages\")\n",
    "\n",
    "docs = messages.stream()\n",
    "\n",
    "for doc in docs:\n",
    "    print(doc.to_dict())"
   ]
  },
  {
   "cell_type": "code",
   "execution_count": 17,
   "metadata": {},
   "outputs": [
    {
     "data": {
      "text/plain": [
       "{'text': 'Hola',\n",
       " 'createdAt': DatetimeWithNanoseconds(2024, 7, 1, 4, 48, 41, 944000, tzinfo=datetime.timezone.utc),\n",
       " 'type': 'text',\n",
       " 'authorId': 'HidJFGAqlxN4GkOtpuMXStxwBYB2',\n",
       " 'updatedAt': DatetimeWithNanoseconds(2024, 7, 1, 4, 48, 41, 944000, tzinfo=datetime.timezone.utc)}"
      ]
     },
     "execution_count": 17,
     "metadata": {},
     "output_type": "execute_result"
    }
   ],
   "source": [
    "room_a_ref = db.collection(\"rooms\").document(\"wh6JjGjt1tP1ubfTQrA5\")\n",
    "message_ref = room_a_ref.collection(\"messages\").document(\"6Ph4n9Yk7EmgHnK8PT7V\")\n",
    "\n",
    "message_ref.get().to_dict()"
   ]
  },
  {
   "cell_type": "code",
   "execution_count": 29,
   "metadata": {},
   "outputs": [
    {
     "data": {
      "text/plain": [
       "update_time {\n",
       "  seconds: 1719811627\n",
       "  nanos: 103357000\n",
       "}"
      ]
     },
     "execution_count": 29,
     "metadata": {},
     "output_type": "execute_result"
    }
   ],
   "source": [
    "message_ref = room_a_ref.collection(\"messages\").document()\n",
    "\n",
    "message_ref.set(\n",
    "    {\n",
    "        \"text\": \"Hola Python\",\n",
    "        \"type\": \"text\",\n",
    "        \"authorId\": \"bcYT3imwF7QY6OdRnRyAY19K3Zz1\",\n",
    "        \"createdAt\": datetime.datetime.now(tz=datetime.timezone.utc),\n",
    "        \"updatedAt\": datetime.datetime.now(tz=datetime.timezone.utc),\n",
    "    }\n",
    ")"
   ]
  },
  {
   "cell_type": "code",
   "execution_count": null,
   "metadata": {},
   "outputs": [],
   "source": []
  },
  {
   "cell_type": "code",
   "execution_count": null,
   "metadata": {},
   "outputs": [],
   "source": []
  }
 ],
 "metadata": {
  "kernelspec": {
   "display_name": "venv",
   "language": "python",
   "name": "python3"
  },
  "language_info": {
   "codemirror_mode": {
    "name": "ipython",
    "version": 3
   },
   "file_extension": ".py",
   "mimetype": "text/x-python",
   "name": "python",
   "nbconvert_exporter": "python",
   "pygments_lexer": "ipython3",
   "version": "3.12.3"
  }
 },
 "nbformat": 4,
 "nbformat_minor": 2
}
